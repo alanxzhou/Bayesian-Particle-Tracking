{
 "cells": [
  {
   "cell_type": "code",
   "execution_count": 1,
   "metadata": {
    "collapsed": false
   },
   "outputs": [
    {
     "name": "stderr",
     "output_type": "stream",
     "text": [
      "/Users/alanzhou/anaconda3/lib/python3.5/site-packages/pandas/computation/__init__.py:19: UserWarning: The installed version of numexpr 2.4.4 is not supported in pandas and will be not be used\n",
      "\n",
      "  UserWarning)\n"
     ]
    }
   ],
   "source": [
    "%matplotlib inline\n",
    "\n",
    "import Bayesian_Particle_Tracking\n",
    "from Bayesian_Particle_Tracking import model\n",
    "from Bayesian_Particle_Tracking.model import displacement, log_likelihood, log_posterior, log_prior, diffusion\n",
    "from Bayesian_Particle_Tracking import io\n",
    "from Bayesian_Particle_Tracking.prior import JeffreysPrior, UniformPrior\n",
    "from Bayesian_Particle_Tracking.printable import Printable\n",
    "from Bayesian_Particle_Tracking import generate_data\n",
    "from Bayesian_Particle_Tracking.generate_data import data_generation, generator\n",
    "import emcee\n",
    "import matplotlib.pyplot as plt\n",
    "import numpy as np\n",
    "import pandas as pd\n",
    "import seaborn as sns"
   ]
  },
  {
   "cell_type": "code",
   "execution_count": 23,
   "metadata": {
    "collapsed": false
   },
   "outputs": [
    {
     "name": "stdout",
     "output_type": "stream",
     "text": [
      "4\n"
     ]
    }
   ],
   "source": [
    "twod = generator(1000, 1e-6, 1e-10, (0,0,0), parameter = \"D\", ndim = 3)\n",
    "print(twod.shape[1])\n",
    "twod = diffusion(twod)\n"
   ]
  },
  {
   "cell_type": "code",
   "execution_count": 24,
   "metadata": {
    "collapsed": false
   },
   "outputs": [
    {
     "data": {
      "text/plain": [
       "9210.8319246593364"
      ]
     },
     "execution_count": 24,
     "metadata": {},
     "output_type": "execute_result"
    }
   ],
   "source": [
    "log_likelihood(1e-10, twod)"
   ]
  },
  {
   "cell_type": "code",
   "execution_count": 35,
   "metadata": {
    "collapsed": true
   },
   "outputs": [],
   "source": [
    "def max_likelihood(data, lower_bound, upper_bound, intervals):\n",
    "    D = np.logspace(lower_bound, upper_bound, intervals)\n",
    "    loglikelihood = np.array(list(map(lambda d: log_likelihood(d, data), D)))\n",
    "    maxindex = np.argmax(loglikelihood)\n",
    "    confidence = D[loglikelihood > (loglikelihood.max() - 0.5)]\n",
    "    return D, D[maxindex], loglikelihood, confidence.min(), confidence.max()"
   ]
  },
  {
   "cell_type": "code",
   "execution_count": 38,
   "metadata": {
    "collapsed": false
   },
   "outputs": [
    {
     "name": "stdout",
     "output_type": "stream",
     "text": [
      "(10000,)\n"
     ]
    },
    {
     "data": {
      "text/plain": [
       "9.5081890855161549e-11"
      ]
     },
     "execution_count": 38,
     "metadata": {},
     "output_type": "execute_result"
    }
   ],
   "source": [
    "D, Dmax, loglikelihood = max_likelihood(twod, -11, -9, 10000)\n",
    "Dmax"
   ]
  },
  {
   "cell_type": "code",
   "execution_count": 40,
   "metadata": {
    "collapsed": false
   },
   "outputs": [
    {
     "name": "stdout",
     "output_type": "stream",
     "text": [
      "9.09695171563e-11\n",
      "9.94717526234e-11\n"
     ]
    }
   ],
   "source": [
    "print(D[loglikelihood > (loglikelihood.max() - 0.5)].min())\n",
    "print(D[loglikelihood > (loglikelihood.max() - 0.5)].max())"
   ]
  },
  {
   "cell_type": "code",
   "execution_count": 11,
   "metadata": {
    "collapsed": false
   },
   "outputs": [
    {
     "data": {
      "text/plain": [
       "array([  7.,   7.,   7.,   7.,   7.,  10.,   7.,   7.,   7.,   7.])"
      ]
     },
     "execution_count": 11,
     "metadata": {},
     "output_type": "execute_result"
    }
   ],
   "source": [
    "sigma = np.ones(10)*7\n",
    "sigma[5] = 10\n",
    "sigma"
   ]
  },
  {
   "cell_type": "code",
   "execution_count": 12,
   "metadata": {
    "collapsed": true
   },
   "outputs": [],
   "source": [
    "def new_sigma(array):\n",
    "    array1 = array[1:len(array)]\n",
    "    array2 = array[:len(array)-1]\n",
    "    array = np.sqrt(array1**2+array2**2)\n",
    "    return array\n",
    "\n",
    "def new_sigma2(array):\n",
    "    array = np.sqrt(2)*array\n",
    "    return array"
   ]
  },
  {
   "cell_type": "code",
   "execution_count": 13,
   "metadata": {
    "collapsed": false
   },
   "outputs": [
    {
     "name": "stdout",
     "output_type": "stream",
     "text": [
      "[  9.89949494   9.89949494   9.89949494   9.89949494  12.20655562\n",
      "  12.20655562   9.89949494   9.89949494   9.89949494]\n",
      "[  9.89949494   9.89949494   9.89949494   9.89949494   9.89949494\n",
      "  14.14213562   9.89949494   9.89949494   9.89949494   9.89949494]\n"
     ]
    }
   ],
   "source": [
    "print(new_sigma(sigma))\n",
    "print(new_sigma2(sigma))"
   ]
  },
  {
   "cell_type": "code",
   "execution_count": 14,
   "metadata": {
    "collapsed": false
   },
   "outputs": [
    {
     "name": "stdout",
     "output_type": "stream",
     "text": [
      "The slowest run took 21.79 times longer than the fastest. This could mean that an intermediate result is being cached \n",
      "1000000 loops, best of 3: 1.92 µs per loop\n"
     ]
    }
   ],
   "source": [
    "%timeit sigma.max()"
   ]
  },
  {
   "cell_type": "code",
   "execution_count": 15,
   "metadata": {
    "collapsed": false
   },
   "outputs": [
    {
     "name": "stdout",
     "output_type": "stream",
     "text": [
      "The slowest run took 15.50 times longer than the fastest. This could mean that an intermediate result is being cached \n",
      "100000 loops, best of 3: 2.28 µs per loop\n"
     ]
    }
   ],
   "source": [
    "%timeit np.max(sigma)"
   ]
  },
  {
   "cell_type": "code",
   "execution_count": null,
   "metadata": {
    "collapsed": true
   },
   "outputs": [],
   "source": []
  }
 ],
 "metadata": {
  "kernelspec": {
   "display_name": "Python 3",
   "language": "python",
   "name": "python3"
  },
  "language_info": {
   "codemirror_mode": {
    "name": "ipython",
    "version": 3
   },
   "file_extension": ".py",
   "mimetype": "text/x-python",
   "name": "python",
   "nbconvert_exporter": "python",
   "pygments_lexer": "ipython3",
   "version": "3.5.1"
  }
 },
 "nbformat": 4,
 "nbformat_minor": 0
}
