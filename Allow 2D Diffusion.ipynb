{
 "cells": [
  {
   "cell_type": "code",
   "execution_count": 1,
   "metadata": {
    "collapsed": false
   },
   "outputs": [
    {
     "name": "stderr",
     "output_type": "stream",
     "text": [
      "/Users/alanzhou/anaconda3/lib/python3.5/site-packages/pandas/computation/__init__.py:19: UserWarning: The installed version of numexpr 2.4.4 is not supported in pandas and will be not be used\n",
      "\n",
      "  UserWarning)\n"
     ]
    }
   ],
   "source": [
    "%matplotlib inline\n",
    "\n",
    "import Bayesian_Particle_Tracking\n",
    "from Bayesian_Particle_Tracking import model\n",
    "from Bayesian_Particle_Tracking.model import displacement, log_likelihood, log_posterior, log_prior, diffusion\n",
    "from Bayesian_Particle_Tracking import io\n",
    "from Bayesian_Particle_Tracking.prior import JeffreysPrior, UniformPrior\n",
    "from Bayesian_Particle_Tracking.printable import Printable\n",
    "from Bayesian_Particle_Tracking import generate_data\n",
    "from Bayesian_Particle_Tracking.generate_data import data_generation, generator\n",
    "import emcee\n",
    "import matplotlib.pyplot as plt\n",
    "import numpy as np\n",
    "import pandas as pd\n",
    "import seaborn as sns"
   ]
  },
  {
   "cell_type": "code",
   "execution_count": 2,
   "metadata": {
    "collapsed": false
   },
   "outputs": [
    {
     "name": "stdout",
     "output_type": "stream",
     "text": [
      "4\n"
     ]
    }
   ],
   "source": [
    "twod = generator(10000, 1e-6, 1e-10, (0,0,0), parameter = \"D\", ndim = 3)\n",
    "print(twod.shape[1])\n",
    "twod = diffusion(twod)\n"
   ]
  },
  {
   "cell_type": "code",
   "execution_count": 3,
   "metadata": {
    "collapsed": false
   },
   "outputs": [
    {
     "data": {
      "text/plain": [
       "92022.22473825296"
      ]
     },
     "execution_count": 3,
     "metadata": {},
     "output_type": "execute_result"
    }
   ],
   "source": [
    "log_likelihood(1e-10, twod)"
   ]
  },
  {
   "cell_type": "code",
   "execution_count": 4,
   "metadata": {
    "collapsed": true
   },
   "outputs": [],
   "source": [
    "def max_likelihood(data, lower_bound, upper_bound, intervals):\n",
    "    D = np.logspace(lower_bound, upper_bound, intervals)\n",
    "    loglikelihood = np.array(list(map(lambda d: log_likelihood(d, data), D)))\n",
    "    maxindex = np.argmax(loglikelihood)\n",
    "    confidence = D[loglikelihood > (loglikelihood.max() - 0.5)]\n",
    "    return D, D[maxindex], loglikelihood, confidence.min(), confidence.max()"
   ]
  },
  {
   "cell_type": "code",
   "execution_count": 5,
   "metadata": {
    "collapsed": false
   },
   "outputs": [
    {
     "data": {
      "text/plain": [
       "9.8650527069587839e-11"
      ]
     },
     "execution_count": 5,
     "metadata": {},
     "output_type": "execute_result"
    }
   ],
   "source": [
    "D, Dbest, loglikelihood, Dmin, Dmax = max_likelihood(twod, -11, -9, 10000)\n",
    "Dbest"
   ]
  },
  {
   "cell_type": "code",
   "execution_count": 6,
   "metadata": {
    "collapsed": false
   },
   "outputs": [
    {
     "name": "stdout",
     "output_type": "stream",
     "text": [
      "9.72520556395e-11\n",
      "1.00023030805e-10\n"
     ]
    }
   ],
   "source": [
    "print(D[loglikelihood > (loglikelihood.max() - 0.5)].min())\n",
    "print(D[loglikelihood > (loglikelihood.max() - 0.5)].max())"
   ]
  },
  {
   "cell_type": "code",
   "execution_count": 11,
   "metadata": {
    "collapsed": false
   },
   "outputs": [
    {
     "data": {
      "text/plain": [
       "array([  7.,   7.,   7.,   7.,   7.,  10.,   7.,   7.,   7.,   7.])"
      ]
     },
     "execution_count": 11,
     "metadata": {},
     "output_type": "execute_result"
    }
   ],
   "source": [
    "sigma = np.ones(10)*7\n",
    "sigma[5] = 10\n",
    "sigma"
   ]
  },
  {
   "cell_type": "code",
   "execution_count": 12,
   "metadata": {
    "collapsed": true
   },
   "outputs": [],
   "source": [
    "def new_sigma(array):\n",
    "    array1 = array[1:len(array)]\n",
    "    array2 = array[:len(array)-1]\n",
    "    array = np.sqrt(array1**2+array2**2)\n",
    "    return array\n",
    "\n",
    "def new_sigma2(array):\n",
    "    array = np.sqrt(2)*array\n",
    "    return array"
   ]
  },
  {
   "cell_type": "code",
   "execution_count": 13,
   "metadata": {
    "collapsed": false
   },
   "outputs": [
    {
     "name": "stdout",
     "output_type": "stream",
     "text": [
      "[  9.89949494   9.89949494   9.89949494   9.89949494  12.20655562\n",
      "  12.20655562   9.89949494   9.89949494   9.89949494]\n",
      "[  9.89949494   9.89949494   9.89949494   9.89949494   9.89949494\n",
      "  14.14213562   9.89949494   9.89949494   9.89949494   9.89949494]\n"
     ]
    }
   ],
   "source": [
    "print(new_sigma(sigma))\n",
    "print(new_sigma2(sigma))"
   ]
  },
  {
   "cell_type": "code",
   "execution_count": 156,
   "metadata": {
    "collapsed": true
   },
   "outputs": [],
   "source": [
    "twod1 = diffusion(generator(10000, 1e-8, 1e-10, (0,0,1), parameter = \"D\", ndim = 2))\n",
    "twod2 = diffusion(generator(10000, 1e-8, 1e-10, (1,1,1), parameter = \"D\", ndim = 2))\n",
    "twod3 = diffusion(generator(10000, 1e-8, 1e-10, (-1,2,3), parameter = \"D\", ndim = 2))"
   ]
  },
  {
   "cell_type": "code",
   "execution_count": 157,
   "metadata": {
    "collapsed": false,
    "scrolled": false
   },
   "outputs": [
    {
     "data": {
      "text/plain": [
       "[<matplotlib.lines.Line2D at 0x115ea5e80>]"
      ]
     },
     "execution_count": 157,
     "metadata": {},
     "output_type": "execute_result"
    },
    {
     "data": {
      "image/png": "[encoded data removed]",
      "text/plain": [
       "<matplotlib.figure.Figure at 0x1153a98d0>"
      ]
     },
     "metadata": {},
     "output_type": "display_data"
    }
   ],
   "source": [
    "twod_array = np.array([twod1.data, twod2.data, twod3.data])\n",
    "trajectory_x = []\n",
    "trajectory_y = []\n",
    "sigma = []\n",
    "length = len(twod1.data)\n",
    "maxcount = 3\n",
    "lastx, lasty = 0, 0\n",
    "\n",
    "for i in range (0,maxcount):\n",
    "    #print(\"first element before change: %.3e\" %twod_array[i,0,0])\n",
    "    length_array = len(twod_array[i])-1\n",
    "    #firstx\n",
    "    twod_array[i,:,0] = (twod_array[i,:,0] - twod_array[i,0,0] + lastx)\n",
    "    #print(\"twod - first element: %.3e\" %(twod_array[i,:,0]-twod_array[i,0,0])[0])\n",
    "    #print(\"twod - last elementt: %.3e\" %(twod_array[i,:,0]-twod_array[i,0,0])[length-1])\n",
    "    #print(\"twod - first element: with lastx %.3e\"%(twod_array[i,:,0] - twod_array[i,0,0] + lastx)[0])\n",
    "    #print(\"twod - last element: with lastx %.3e\"%(twod_array[i,:,0] - twod_array[i,0,0] + lastx)[length-1])\n",
    "    #firsty\n",
    "    twod_array[i,:,1] = (twod_array[i,:,1] - twod_array[i,0,1] + lasty)\n",
    "    #lastx, lasty\n",
    "    lastx, lasty = twod_array[i,length-1,0], twod_array[i,length-1,1]\n",
    "    trajectory_x += list(twod_array[i,:,0])\n",
    "    trajectory_y += list(twod_array[i,:,1])\n",
    "    #print(\"last element: %.4e\" %lastx)\n",
    "    sigma += list(twod_array[i,:,2])\n",
    "    \n",
    "trajectory_x = np.array(trajectory_x)\n",
    "trajectory_y = np.array(trajectory_y)\n",
    "positions = np.array((trajectory_x, trajectory_y, sigma)).T\n",
    "plt.plot(positions[:,0], positions[:,1])"
   ]
  },
  {
   "cell_type": "code",
   "execution_count": 158,
   "metadata": {
    "collapsed": false
   },
   "outputs": [
    {
     "data": {
      "text/plain": [
       "-0.0002400972651651442"
      ]
     },
     "execution_count": 158,
     "metadata": {},
     "output_type": "execute_result"
    }
   ],
   "source": [
    "trajectory_x[99]"
   ]
  },
  {
   "cell_type": "code",
   "execution_count": 159,
   "metadata": {
    "collapsed": false
   },
   "outputs": [
    {
     "data": {
      "text/plain": [
       "array([], dtype=int64)"
      ]
     },
     "execution_count": 159,
     "metadata": {},
     "output_type": "execute_result"
    }
   ],
   "source": [
    "x_difference = (np.diff(trajectory_x))\n",
    "index = x_difference[abs(x_difference) > .0001]\n",
    "counter = np.arange(0,len(x_difference))\n",
    "counter[abs(x_difference) > .0001]"
   ]
  },
  {
   "cell_type": "code",
   "execution_count": 161,
   "metadata": {
    "collapsed": true
   },
   "outputs": [],
   "source": [
    "positions = diffusion(positions)"
   ]
  },
  {
   "cell_type": "code",
   "execution_count": 162,
   "metadata": {
    "collapsed": true
   },
   "outputs": [],
   "source": [
    "def max_likelihood(data, lower_bound, upper_bound, intervals):\n",
    "    D = np.logspace(lower_bound, upper_bound, intervals)\n",
    "    loglikelihood = np.array(list(map(lambda d: log_likelihood(d, data), D)))\n",
    "    maxindex = np.argmax(loglikelihood)\n",
    "    confidence = D[loglikelihood > (loglikelihood.max() - 0.5)]\n",
    "    return D, D[maxindex], loglikelihood, confidence.min(), confidence.max()"
   ]
  },
  {
   "cell_type": "code",
   "execution_count": 163,
   "metadata": {
    "collapsed": false
   },
   "outputs": [],
   "source": [
    "D, Dbest, loglikelihood, Dmin, Dmax = max_likelihood(positions, -11, -9, 10000)"
   ]
  },
  {
   "cell_type": "code",
   "execution_count": 164,
   "metadata": {
    "collapsed": false
   },
   "outputs": [
    {
     "data": {
      "text/plain": [
       "1.0006910833004608e-10"
      ]
     },
     "execution_count": 164,
     "metadata": {},
     "output_type": "execute_result"
    }
   ],
   "source": [
    "Dbest"
   ]
  },
  {
   "cell_type": "code",
   "execution_count": 112,
   "metadata": {
    "collapsed": false
   },
   "outputs": [
    {
     "name": "stdout",
     "output_type": "stream",
     "text": [
      "4\n"
     ]
    }
   ],
   "source": [
    "print(len(twod.data[9999]))"
   ]
  },
  {
   "cell_type": "code",
   "execution_count": null,
   "metadata": {
    "collapsed": true
   },
   "outputs": [],
   "source": [
    "particle_max = 13808\n",
    "\n",
    "lastrow = [0,0,0,0]\n",
    "single = []\n",
    "\n",
    "for i in range(0,5):\n",
    "    if relevant[relevant['particle'] == i].empty == False:\n",
    "        frame = np.array(relevant[relevant['particle'] == i][['x','y', 'ep', 'frame']])\n",
    "        firstrow = [frame[0,0], frame[0,1], frame[0,2], frame[0,3]]\n",
    "        new_frame = frame - firstrow + lastrow \n",
    "        #print(\"new_frame: \\n %s\" %new_frame)\n",
    "        length = len(frame)-1\n",
    "        lastrow = [new_frame[length,0], new_frame[length,1], new_frame[length,2], new_frame[length,3]]\n",
    "        #print(lastrow)\n",
    "        single += list(new_frame)"
   ]
  }
 ],
 "metadata": {
  "kernelspec": {
   "display_name": "Python 3",
   "language": "python",
   "name": "python3"
  },
  "language_info": {
   "codemirror_mode": {
    "name": "ipython",
    "version": 3
   },
   "file_extension": ".py",
   "mimetype": "text/x-python",
   "name": "python",
   "nbconvert_exporter": "python",
   "pygments_lexer": "ipython3",
   "version": "3.5.1"
  }
 },
 "nbformat": 4,
 "nbformat_minor": 0
}
