{
 "cells": [
  {
   "cell_type": "markdown",
   "metadata": {},
   "source": [
    "# Tutorial\n",
    "\n",
    "In this document, we'll show how to use this package, and compare the results to a frequentist, ad-hoc method of estimating the diffusion coefficient and its uncertainty."
   ]
  },
  {
   "cell_type": "code",
   "execution_count": 99,
   "metadata": {
    "collapsed": false
   },
   "outputs": [],
   "source": [
    "%matplotlib inline\n",
    "\n",
    "import Bayesian_Particle_Tracking\n",
    "from Bayesian_Particle_Tracking import model\n",
    "from Bayesian_Particle_Tracking.model import log_likelihood, log_posterior, log_prior, diffusion\n",
    "from Bayesian_Particle_Tracking import io\n",
    "from Bayesian_Particle_Tracking.prior import JeffreysPrior, UniformPrior\n",
    "from Bayesian_Particle_Tracking.printable import Printable\n",
    "from Bayesian_Particle_Tracking import generate_data\n",
    "from Bayesian_Particle_Tracking.generate_data import data_generation, generator\n",
    "import emcee\n",
    "import matplotlib.pyplot as plt\n",
    "import numpy as np\n",
    "import pandas as pd\n",
    "import seaborn as sns"
   ]
  },
  {
   "cell_type": "markdown",
   "metadata": {},
   "source": [
    "We will use generated data so that it will be convenient for evaluating the validity of our method, since we will know the diffusion coefficient.  $\\sigma=10^{-6}$m and $D = 10^{-10}m^2/s$, where $\\sigma$ is the measurement uncertainty on the particle's position. Our starting position is at the origin. We will look at a single particle over 100000 time frames of 1 second each. (Note that tau in the generator function is a keyword argument with its default set to 1.)"
   ]
  },
  {
   "cell_type": "code",
   "execution_count": 18,
   "metadata": {
    "collapsed": false
   },
   "outputs": [],
   "source": [
    "#Generated the data with the following code.\n",
    "#data = Bayesian_Particle_Tracking.generate_data.generator(100000,1e-6,1e-10,[0,0,0], parameter = \"D\")\n",
    "#np.save('compare_data', data)\n",
    "\n",
    "home_dir = \"/Users/alanzhou/Documents/Physics_201/final_project/\"\n",
    "data = np.load(home_dir + 'compare_data.npy')\n",
    "compare_input = diffusion(data)\n"
   ]
  },
  {
   "cell_type": "markdown",
   "metadata": {},
   "source": [
    "To evaluate the diffusion coefficient we will be using Markov Chain Monte Carlo with the emcee package."
   ]
  },
  {
   "cell_type": "code",
   "execution_count": 19,
   "metadata": {
    "collapsed": false
   },
   "outputs": [
    {
     "name": "stdout",
     "output_type": "stream",
     "text": [
      "CPU times: user 44.4 s, sys: 8.64 s, total: 53.1 s\n",
      "Wall time: 53.5 s\n",
      "Done\n"
     ]
    }
   ],
   "source": [
    "#the model has 1 parameter; we'll use 40 walkers and 500 steps\n",
    "ndim = 1\n",
    "nwalkers = 12\n",
    "nsteps = 500\n",
    "\n",
    "#starting_positions = [abs(10**(-10) + 1e-10*np.random.randn(ndim)) for i in range(nwalkers)]\n",
    "\n",
    "starting_positions = emcee.utils.sample_ball(\n",
    "    ([10**(-10)]),\n",
    "    ([10**(-10)]),nwalkers)\n",
    "\n",
    "# set up the sampler object\n",
    "sampler = emcee.EnsembleSampler(nwalkers, ndim, log_posterior, \n",
    "                                args=[compare_input])\n",
    "# run the sampler. We use iPython's %time directive to tell us \n",
    "# how long it took (in a script, you would leave out \"%time\")\n",
    "%time sampler.run_mcmc(starting_positions, nsteps)\n",
    "print('Done')"
   ]
  },
  {
   "cell_type": "markdown",
   "metadata": {},
   "source": [
    "Plotting our walkers:"
   ]
  },
  {
   "cell_type": "code",
   "execution_count": 20,
   "metadata": {
    "collapsed": false
   },
   "outputs": [
    {
     "data": {
      "image/png": "[encoded data removed]",
      "text/plain": [
       "<matplotlib.figure.Figure at 0x10ddf31d0>"
      ]
     },
     "metadata": {},
     "output_type": "display_data"
    }
   ],
   "source": [
    "fig, (ax_D) = plt.subplots(1)\n",
    "ax_D.set(ylabel='D')\n",
    "for i in range(nwalkers):\n",
    "    sns.tsplot(sampler.chain[i,:,0], ax=ax_D)"
   ]
  },
  {
   "cell_type": "markdown",
   "metadata": {},
   "source": [
    "This is a pretty fast burn in time. We'll cut out the first 75 steps."
   ]
  },
  {
   "cell_type": "code",
   "execution_count": 21,
   "metadata": {
    "collapsed": true
   },
   "outputs": [],
   "source": [
    "samples = sampler.chain[:,75:,:]\n",
    "# reshape the samples into a 1D array where the column is D\n",
    "traces = samples.reshape(-1, ndim).T\n",
    "# create a pandas DataFrame with labels. \n",
    "parameter_samples = pd.DataFrame({'D': traces[0]})"
   ]
  },
  {
   "cell_type": "markdown",
   "metadata": {},
   "source": [
    "Now let's plot the marginal pdf of D:"
   ]
  },
  {
   "cell_type": "code",
   "execution_count": 22,
   "metadata": {
    "collapsed": false
   },
   "outputs": [
    {
     "data": {
      "text/plain": [
       "<matplotlib.text.Text at 0x10e045d30>"
      ]
     },
     "execution_count": 22,
     "metadata": {},
     "output_type": "execute_result"
    },
    {
     "data": {
      "image/png": "[encoded data removed]",
      "text/plain": [
       "<matplotlib.figure.Figure at 0x10e7f8208>"
      ]
     },
     "metadata": {},
     "output_type": "display_data"
    }
   ],
   "source": [
    "sns.kdeplot(parameter_samples['D'])\n",
    "plt.title('$D$')"
   ]
  },
  {
   "cell_type": "code",
   "execution_count": 23,
   "metadata": {
    "collapsed": false
   },
   "outputs": [
    {
     "name": "stdout",
     "output_type": "stream",
     "text": [
      "D = 9.997e-11 + 3.930e-13 - 4.271e-13\n"
     ]
    }
   ],
   "source": [
    "q = parameter_samples.quantile([0.16,0.50,0.84], axis=0)\n",
    "\n",
    "print(\"D = {:.3e} + {:.3e} - {:.3e}\".format(q['D'][0.50], \n",
    "                                            q['D'][0.84]-q['D'][0.50],\n",
    "                                            q['D'][0.50]-q['D'][0.16]))"
   ]
  },
  {
   "cell_type": "markdown",
   "metadata": {},
   "source": [
    "This is very close to what we expect, and the true value of D is contained within our 68% credibility interval."
   ]
  },
  {
   "cell_type": "markdown",
   "metadata": {},
   "source": [
    "## Ad Hoc Method\n",
    "\n",
    "This method is taken from Jerome Fung's 2013 doctoral dissertation at Harvard University, _Measuring the 3D Dynamics of Multiple Colloidal Particles_. The method, described as a \"Flyvbjerg-Peterson (FB) algorithm\" is described as follows:\n",
    "\n",
    "1. Begin with correlated data (i.e., a set of squared displacements) $x_i$\n",
    "2. Block-decorrelate the data (with Flybjerg-Peterson block-decorrelation). At each block decorrelation step, calculate var($x'_i$)/(N'-1)\n",
    "3. To find the leftmost fixed-point region (smallest number of decorrelation setps), check if the variance estimate after $j$ transformations lies within the 1-sigma error bars of the variance estimate after j+1 transformations. The leftmost point to be considered fixed is the first point satisfying this criterior.\n",
    "4. Repeat Step 3 from the right to find the rightmost edge of the fixed point region.\n",
    "5. Compute a weighted average of all the var($x'_i$)/(N'-1) in the fixed-point region, where the weights by the 1-sigma error bars."
   ]
  },
  {
   "cell_type": "markdown",
   "metadata": {},
   "source": [
    "First we define our squared displacement function.\n",
    "\n",
    "We'll also define a function to calculate MSD for illustrative purposes"
   ]
  },
  {
   "cell_type": "code",
   "execution_count": 24,
   "metadata": {
    "collapsed": true
   },
   "outputs": [],
   "source": [
    "def sq_displacement(data):\n",
    "    data_length = len(data)\n",
    "    point_before = data[:len(data)-1]\n",
    "    x_before, y_before, z_before = point_before[:,0], point_before[:,1], point_before[:,2]\n",
    "\n",
    "    data_points = data[1:]\n",
    "    x_data, y_data, z_data = data_points[:,0], data_points[:,1], data_points[:,2]\n",
    "    distance = np.sqrt((x_before-x_data)**2+(y_before-y_data)**2+(z_before-z_data)**2)\n",
    "    return distance**2\n",
    "\n",
    "def MSD(data):\n",
    "    return np.sum(sq_displacement(data))/len(data)"
   ]
  },
  {
   "cell_type": "markdown",
   "metadata": {},
   "source": [
    "Below we see the results for distributions of MSDs obtained from 1000 simulated experiments in which N=1000 displacements are sampled (to generate this data the displacement array for a particle that took 1,000,000 steps  was split into 1000 arrays). The value of D is chosen with D = $10^{-10} m^2/s$ and $\\tau = 1$s such that the true value of the MSD should be \n",
    "\n",
    "$$\\langle\\Delta x^2 \\rangle = 6*D*\\tau = 6*10^{-10}m^2$$"
   ]
  },
  {
   "cell_type": "code",
   "execution_count": 36,
   "metadata": {
    "collapsed": false,
    "scrolled": true
   },
   "outputs": [
    {
     "name": "stdout",
     "output_type": "stream",
     "text": [
      "5.92095950319e-10\n"
     ]
    },
    {
     "data": {
      "text/plain": [
       "<matplotlib.text.Text at 0x112a0ddd8>"
      ]
     },
     "execution_count": 36,
     "metadata": {},
     "output_type": "execute_result"
    },
    {
     "data": {
      "image/png": "[encoded data removed]",
      "text/plain": [
       "<matplotlib.figure.Figure at 0x10dbcec88>"
      ]
     },
     "metadata": {},
     "output_type": "display_data"
    }
   ],
   "source": [
    "test_data = np.split(data,1000)\n",
    "msd_array = np.array(list(map(MSD,test_data)))\n",
    "plt.hist(msd_array)\n",
    "print(np.median(msd_array))\n",
    "plt.ylabel('counts')\n",
    "plt.xlabel('$\\langle \\Delta x^2 \\\\rangle$ (m$^2)$')"
   ]
  },
  {
   "cell_type": "markdown",
   "metadata": {},
   "source": [
    "The standard error of the of sample variance goes as 1/$\\sqrt{N}$, but to calculate the true standard error on the sample variance we use the FP algorithm."
   ]
  },
  {
   "cell_type": "markdown",
   "metadata": {},
   "source": [
    "# TODO:\n",
    "\n",
    "Verify that the calculations for the variance of the mean and that uncertainty on the variance is correct."
   ]
  },
  {
   "cell_type": "code",
   "execution_count": 31,
   "metadata": {
    "collapsed": false,
    "scrolled": true
   },
   "outputs": [
    {
     "name": "stderr",
     "output_type": "stream",
     "text": [
      "/Users/alanzhou/anaconda3/lib/python3.5/site-packages/ipykernel/__main__.py:10: DeprecationWarning: using a non-integer number instead of an integer will result in an error in the future\n"
     ]
    }
   ],
   "source": [
    "msd_array = sq_displacement(data)\n",
    "new_length = len(msd_array)\n",
    "\n",
    "output_var = []\n",
    "var_uncertainty = []\n",
    "\n",
    "for i in range(0,8):\n",
    "    #length of the next array should be 2 times smalller (2^(i+1) times smaller overall)\n",
    "    new_length = len(msd_array)/2\n",
    "    new_array = np.zeros(new_length)\n",
    "    #iterate over each element of the new array\n",
    "    for i in range(0,len(new_array)):\n",
    "        #Each element is given by the average of the corresponding 2 elements in the previous array\n",
    "        new_array[i] = (msd_array[2*i-1]+msd_array[2*i])/2\n",
    "    output_var.append(np.var(new_array)/(len(new_array)-1))\n",
    "    var_uncertainty.append(np.var(new_array)/(len(new_array)-1)*np.sqrt(2/(len(new_array)-1)))\n",
    "    msd_array = new_array"
   ]
  },
  {
   "cell_type": "code",
   "execution_count": 32,
   "metadata": {
    "collapsed": false
   },
   "outputs": [
    {
     "data": {
      "text/plain": [
       "<matplotlib.text.Text at 0x10e2c2fd0>"
      ]
     },
     "execution_count": 32,
     "metadata": {},
     "output_type": "execute_result"
    },
    {
     "data": {
      "image/png": "[encoded data removed]",
      "text/plain": [
       "<matplotlib.figure.Figure at 0x10e5ce6d8>"
      ]
     },
     "metadata": {},
     "output_type": "display_data"
    }
   ],
   "source": [
    "b = np.arange(0,len(output_var))\n",
    "plt.errorbar(b,output_var, yerr = var_uncertainty, fmt='o')\n",
    "plt.ylabel('Output Variance of the Mean')\n",
    "plt.xlabel('Nuber of Block Transformations')"
   ]
  },
  {
   "cell_type": "markdown",
   "metadata": {},
   "source": [
    "We can see that from the FP method, we should take the average of points 3 through 5 to find the variance on the sample mean."
   ]
  },
  {
   "cell_type": "code",
   "execution_count": 28,
   "metadata": {
    "collapsed": false
   },
   "outputs": [
    {
     "name": "stdout",
     "output_type": "stream",
     "text": [
      "2.67923469954e-12\n"
     ]
    }
   ],
   "source": [
    "print(np.sqrt(np.mean(output_var[2:7])))"
   ]
  },
  {
   "cell_type": "markdown",
   "metadata": {},
   "source": [
    "We see that from the FP method we obtain a 68% confidence interval (1-sigma) of $\\pm 2.68*10^{-12}$\n",
    "\n",
    "Compare this to the 68% credibility interval by MCMC of $~ \\pm 4*10^{-13}$"
   ]
  },
  {
   "cell_type": "markdown",
   "metadata": {
    "collapsed": true
   },
   "source": [
    "## CGW Method\n",
    "\n",
    "This method is alluded to in Jerome Fung's Thesis, and is one of the primary ways of estimating the diffusion coefficient in colloid physics. The idea is to take a set of MSDs and then fit a line of the form 2D$\\tau$ to the plot of MSD as a function of lag time. The relative standard error of the variance, $\\sigma_{var}/var$ can be computed by:\n",
    "\n",
    "$$\\frac{\\sigma_{var}}{var}=\\sqrt{\\frac{2}{N_{ind}-1}}$$\n",
    "\n",
    "where $N_{ind}$ is the number of independent displacements. In the CGW method, this is given by:\n",
    "\n",
    "$$N_{ind, CGW} = 2\\frac{N-n}{n}$$\n",
    "\n",
    "where n is the number of time steps between displacements for a trajectory of N timesteps."
   ]
  },
  {
   "cell_type": "code",
   "execution_count": 148,
   "metadata": {
    "collapsed": true
   },
   "outputs": [],
   "source": [
    "def MSD(data, i):\n",
    "    \"\"\"\n",
    "    Returns MSD for i arbitrary time steps\n",
    "    \"\"\"\n",
    "    data_length = len(data)\n",
    "    point_before = data[:data_length-i]\n",
    "    point_after = data[i:]\n",
    "    \n",
    "    x_before, y_before, z_before = point_before[:,0], point_before[:,1], point_before[:,2]\n",
    "    x_after, y_after, z_after = point_after[:,0], point_after[:,1], point_after[:,2]\n",
    "    SD = (x_before-x_after)**2+(y_before-y_after)**2+(z_before-z_after)**2\n",
    "    return np.mean(SD)\n",
    "\n",
    "def Nind(data, i):\n",
    "    N = len(data)\n",
    "    return 2*(N - i)/i\n",
    "    \n",
    "def sigma_var(data, i):\n",
    "    return MSD(data, i)*np.sqrt(2/(Nind(data, i)-1))\n",
    "\n",
    "def CGW_analysis(diffusion_object, max_lag_time, down_sample = 10):\n",
    "    \"\"\"\n",
    "    Crocker, Grier, Weeks\n",
    "    \"\"\"\n",
    "    msd_array = []\n",
    "    sigma_var_array = []\n",
    "    counter = np.arange(1,max_lag_time,down_sample)\n",
    "    \n",
    "    for i in range(1, max_lag_time, down_sample):\n",
    "        msd_array.append(MSD(diffusion_object.data, i))\n",
    "        sigma_var_array.append(sigma_var(diffusion_object.data, i))\n",
    "        \n",
    "    msd_array = np.array(msd_array)\n",
    "    sigma_var_array = np.array(sigma_var_array)\n",
    "    return msd_array, sigma_var_array, counter"
   ]
  },
  {
   "cell_type": "code",
   "execution_count": 171,
   "metadata": {
    "collapsed": false
   },
   "outputs": [],
   "source": [
    "msd, sigma, counter = CGW_analysis(compare_input, 20000, down_sample = 10)"
   ]
  },
  {
   "cell_type": "code",
   "execution_count": 172,
   "metadata": {
    "collapsed": false
   },
   "outputs": [
    {
     "data": {
      "text/plain": [
       "<matplotlib.text.Text at 0x1219e20f0>"
      ]
     },
     "execution_count": 172,
     "metadata": {},
     "output_type": "execute_result"
    },
    {
     "data": {
      "image/png": "[encoded data removed]",
      "text/plain": [
       "<matplotlib.figure.Figure at 0x11fce8908>"
      ]
     },
     "metadata": {},
     "output_type": "display_data"
    }
   ],
   "source": [
    "plt.errorbar(counter, msd, yerr = sigma, fmt = '.')\n",
    "plt.xlabel('lagtime')\n",
    "plt.ylabel('MSD')"
   ]
  },
  {
   "cell_type": "code",
   "execution_count": 167,
   "metadata": {
    "collapsed": true
   },
   "outputs": [],
   "source": [
    "from scipy.optimize import curve_fit"
   ]
  },
  {
   "cell_type": "code",
   "execution_count": 168,
   "metadata": {
    "collapsed": true
   },
   "outputs": [],
   "source": [
    "def f(tau,D):\n",
    "    return 6*D*tau"
   ]
  },
  {
   "cell_type": "code",
   "execution_count": 176,
   "metadata": {
    "collapsed": false
   },
   "outputs": [
    {
     "data": {
      "text/plain": [
       "array([  1.39960420e-13])"
      ]
     },
     "execution_count": 176,
     "metadata": {},
     "output_type": "execute_result"
    }
   ],
   "source": [
    "popt, pcov = curve_fit(f, counter, msd, sigma = sigma)\n",
    "D = popt[0]\n",
    "sigma_D = np.sqrt(pcov[0])\n",
    "sigma_D"
   ]
  },
  {
   "cell_type": "code",
   "execution_count": 177,
   "metadata": {
    "collapsed": false
   },
   "outputs": [
    {
     "name": "stdout",
     "output_type": "stream",
     "text": [
      "D = 9.9905e-11 + 1.3996e-13 - 1.3996e-13\n"
     ]
    }
   ],
   "source": [
    "print(\"D = %.4e + %.4e - %.4e\" %(D, sigma_D, sigma_D))"
   ]
  },
  {
   "cell_type": "markdown",
   "metadata": {},
   "source": [
    "## Actual Data\n",
    "\n",
    "Now lets do some analysis on actual data. Data provided by Viva Horowitz."
   ]
  },
  {
   "cell_type": "code",
   "execution_count": 107,
   "metadata": {
    "collapsed": false
   },
   "outputs": [],
   "source": [
    "home_dir = \"/Users/alanzhou/Documents/Physics_201/final_project/\"\n",
    "trajectory_dataframe = pd.read_pickle('/Users/alanzhou/Documents/Physics_201/final_project/160408,_e_coli_and_tracers_in_droplets_viva_pickled,_tracked_by_ZCC,_filtered_data_with_drift_subtracted_pickled.pkl')"
   ]
  },
  {
   "cell_type": "markdown",
   "metadata": {},
   "source": [
    "## TODO: delete this"
   ]
  },
  {
   "cell_type": "code",
   "execution_count": 38,
   "metadata": {
    "collapsed": false
   },
   "outputs": [
    {
     "data": {
      "text/html": [
       "<div>\n",
       "<table border=\"1\" class=\"dataframe\">\n",
       "  <thead>\n",
       "    <tr style=\"text-align: right;\">\n",
       "      <th></th>\n",
       "      <th>frame</th>\n",
       "      <th>ep</th>\n",
       "      <th>particle</th>\n",
       "      <th>x</th>\n",
       "      <th>y</th>\n",
       "    </tr>\n",
       "    <tr>\n",
       "      <th>frame</th>\n",
       "      <th></th>\n",
       "      <th></th>\n",
       "      <th></th>\n",
       "      <th></th>\n",
       "      <th></th>\n",
       "    </tr>\n",
       "  </thead>\n",
       "  <tbody>\n",
       "    <tr>\n",
       "      <th>0</th>\n",
       "      <td>0.0</td>\n",
       "      <td>0.048181</td>\n",
       "      <td>1.0</td>\n",
       "      <td>549.336236</td>\n",
       "      <td>143.804503</td>\n",
       "    </tr>\n",
       "    <tr>\n",
       "      <th>0</th>\n",
       "      <td>0.0</td>\n",
       "      <td>0.041715</td>\n",
       "      <td>4.0</td>\n",
       "      <td>372.135563</td>\n",
       "      <td>168.389727</td>\n",
       "    </tr>\n",
       "    <tr>\n",
       "      <th>0</th>\n",
       "      <td>0.0</td>\n",
       "      <td>0.051584</td>\n",
       "      <td>5.0</td>\n",
       "      <td>516.364185</td>\n",
       "      <td>169.557935</td>\n",
       "    </tr>\n",
       "    <tr>\n",
       "      <th>0</th>\n",
       "      <td>0.0</td>\n",
       "      <td>0.052604</td>\n",
       "      <td>6.0</td>\n",
       "      <td>476.871945</td>\n",
       "      <td>171.904461</td>\n",
       "    </tr>\n",
       "    <tr>\n",
       "      <th>0</th>\n",
       "      <td>0.0</td>\n",
       "      <td>0.051734</td>\n",
       "      <td>8.0</td>\n",
       "      <td>579.902433</td>\n",
       "      <td>175.419332</td>\n",
       "    </tr>\n",
       "    <tr>\n",
       "      <th>0</th>\n",
       "      <td>0.0</td>\n",
       "      <td>0.046582</td>\n",
       "      <td>18.0</td>\n",
       "      <td>362.085964</td>\n",
       "      <td>252.677716</td>\n",
       "    </tr>\n",
       "    <tr>\n",
       "      <th>0</th>\n",
       "      <td>0.0</td>\n",
       "      <td>0.042600</td>\n",
       "      <td>22.0</td>\n",
       "      <td>388.877641</td>\n",
       "      <td>279.323083</td>\n",
       "    </tr>\n",
       "    <tr>\n",
       "      <th>0</th>\n",
       "      <td>0.0</td>\n",
       "      <td>0.062479</td>\n",
       "      <td>28.0</td>\n",
       "      <td>701.583660</td>\n",
       "      <td>330.457355</td>\n",
       "    </tr>\n",
       "    <tr>\n",
       "      <th>0</th>\n",
       "      <td>0.0</td>\n",
       "      <td>0.076062</td>\n",
       "      <td>29.0</td>\n",
       "      <td>276.993789</td>\n",
       "      <td>330.646458</td>\n",
       "    </tr>\n",
       "    <tr>\n",
       "      <th>0</th>\n",
       "      <td>0.0</td>\n",
       "      <td>0.048221</td>\n",
       "      <td>32.0</td>\n",
       "      <td>488.218460</td>\n",
       "      <td>351.535848</td>\n",
       "    </tr>\n",
       "    <tr>\n",
       "      <th>0</th>\n",
       "      <td>0.0</td>\n",
       "      <td>0.035703</td>\n",
       "      <td>38.0</td>\n",
       "      <td>610.764315</td>\n",
       "      <td>402.128264</td>\n",
       "    </tr>\n",
       "    <tr>\n",
       "      <th>0</th>\n",
       "      <td>0.0</td>\n",
       "      <td>0.051403</td>\n",
       "      <td>44.0</td>\n",
       "      <td>676.406612</td>\n",
       "      <td>425.220745</td>\n",
       "    </tr>\n",
       "    <tr>\n",
       "      <th>0</th>\n",
       "      <td>0.0</td>\n",
       "      <td>0.044682</td>\n",
       "      <td>45.0</td>\n",
       "      <td>520.180984</td>\n",
       "      <td>427.874325</td>\n",
       "    </tr>\n",
       "    <tr>\n",
       "      <th>0</th>\n",
       "      <td>0.0</td>\n",
       "      <td>0.047732</td>\n",
       "      <td>47.0</td>\n",
       "      <td>332.137824</td>\n",
       "      <td>433.804756</td>\n",
       "    </tr>\n",
       "    <tr>\n",
       "      <th>0</th>\n",
       "      <td>0.0</td>\n",
       "      <td>0.049822</td>\n",
       "      <td>48.0</td>\n",
       "      <td>551.822039</td>\n",
       "      <td>436.167129</td>\n",
       "    </tr>\n",
       "    <tr>\n",
       "      <th>0</th>\n",
       "      <td>0.0</td>\n",
       "      <td>0.047765</td>\n",
       "      <td>49.0</td>\n",
       "      <td>639.461303</td>\n",
       "      <td>438.999729</td>\n",
       "    </tr>\n",
       "    <tr>\n",
       "      <th>0</th>\n",
       "      <td>0.0</td>\n",
       "      <td>0.065475</td>\n",
       "      <td>50.0</td>\n",
       "      <td>708.271235</td>\n",
       "      <td>443.750257</td>\n",
       "    </tr>\n",
       "    <tr>\n",
       "      <th>0</th>\n",
       "      <td>0.0</td>\n",
       "      <td>0.046287</td>\n",
       "      <td>52.0</td>\n",
       "      <td>683.056148</td>\n",
       "      <td>444.504551</td>\n",
       "    </tr>\n",
       "    <tr>\n",
       "      <th>0</th>\n",
       "      <td>0.0</td>\n",
       "      <td>0.034480</td>\n",
       "      <td>53.0</td>\n",
       "      <td>424.259051</td>\n",
       "      <td>444.571425</td>\n",
       "    </tr>\n",
       "    <tr>\n",
       "      <th>0</th>\n",
       "      <td>0.0</td>\n",
       "      <td>0.047445</td>\n",
       "      <td>55.0</td>\n",
       "      <td>368.685134</td>\n",
       "      <td>448.142441</td>\n",
       "    </tr>\n",
       "    <tr>\n",
       "      <th>0</th>\n",
       "      <td>0.0</td>\n",
       "      <td>0.049140</td>\n",
       "      <td>61.0</td>\n",
       "      <td>416.298241</td>\n",
       "      <td>486.138220</td>\n",
       "    </tr>\n",
       "    <tr>\n",
       "      <th>0</th>\n",
       "      <td>0.0</td>\n",
       "      <td>0.053764</td>\n",
       "      <td>63.0</td>\n",
       "      <td>588.420699</td>\n",
       "      <td>492.108519</td>\n",
       "    </tr>\n",
       "    <tr>\n",
       "      <th>0</th>\n",
       "      <td>0.0</td>\n",
       "      <td>0.041998</td>\n",
       "      <td>64.0</td>\n",
       "      <td>465.927233</td>\n",
       "      <td>501.761578</td>\n",
       "    </tr>\n",
       "    <tr>\n",
       "      <th>0</th>\n",
       "      <td>0.0</td>\n",
       "      <td>0.050404</td>\n",
       "      <td>68.0</td>\n",
       "      <td>540.492818</td>\n",
       "      <td>513.787206</td>\n",
       "    </tr>\n",
       "    <tr>\n",
       "      <th>0</th>\n",
       "      <td>0.0</td>\n",
       "      <td>0.048289</td>\n",
       "      <td>70.0</td>\n",
       "      <td>494.281463</td>\n",
       "      <td>534.085273</td>\n",
       "    </tr>\n",
       "    <tr>\n",
       "      <th>0</th>\n",
       "      <td>0.0</td>\n",
       "      <td>0.059382</td>\n",
       "      <td>71.0</td>\n",
       "      <td>390.461047</td>\n",
       "      <td>536.899489</td>\n",
       "    </tr>\n",
       "    <tr>\n",
       "      <th>0</th>\n",
       "      <td>0.0</td>\n",
       "      <td>0.049146</td>\n",
       "      <td>72.0</td>\n",
       "      <td>547.109317</td>\n",
       "      <td>558.933580</td>\n",
       "    </tr>\n",
       "    <tr>\n",
       "      <th>0</th>\n",
       "      <td>0.0</td>\n",
       "      <td>0.068313</td>\n",
       "      <td>73.0</td>\n",
       "      <td>507.012833</td>\n",
       "      <td>570.903157</td>\n",
       "    </tr>\n",
       "    <tr>\n",
       "      <th>0</th>\n",
       "      <td>0.0</td>\n",
       "      <td>0.063912</td>\n",
       "      <td>74.0</td>\n",
       "      <td>634.064273</td>\n",
       "      <td>671.080914</td>\n",
       "    </tr>\n",
       "    <tr>\n",
       "      <th>0</th>\n",
       "      <td>0.0</td>\n",
       "      <td>0.062176</td>\n",
       "      <td>78.0</td>\n",
       "      <td>721.614218</td>\n",
       "      <td>722.521004</td>\n",
       "    </tr>\n",
       "    <tr>\n",
       "      <th>...</th>\n",
       "      <td>...</td>\n",
       "      <td>...</td>\n",
       "      <td>...</td>\n",
       "      <td>...</td>\n",
       "      <td>...</td>\n",
       "    </tr>\n",
       "    <tr>\n",
       "      <th>5003</th>\n",
       "      <td>5003.0</td>\n",
       "      <td>0.027756</td>\n",
       "      <td>11767.0</td>\n",
       "      <td>655.201374</td>\n",
       "      <td>721.206466</td>\n",
       "    </tr>\n",
       "    <tr>\n",
       "      <th>5003</th>\n",
       "      <td>5003.0</td>\n",
       "      <td>0.029918</td>\n",
       "      <td>12240.0</td>\n",
       "      <td>676.924960</td>\n",
       "      <td>735.012984</td>\n",
       "    </tr>\n",
       "    <tr>\n",
       "      <th>5003</th>\n",
       "      <td>5003.0</td>\n",
       "      <td>0.023633</td>\n",
       "      <td>13194.0</td>\n",
       "      <td>408.072154</td>\n",
       "      <td>245.514449</td>\n",
       "    </tr>\n",
       "    <tr>\n",
       "      <th>5003</th>\n",
       "      <td>5003.0</td>\n",
       "      <td>0.032657</td>\n",
       "      <td>13481.0</td>\n",
       "      <td>405.642142</td>\n",
       "      <td>175.247834</td>\n",
       "    </tr>\n",
       "    <tr>\n",
       "      <th>5003</th>\n",
       "      <td>5003.0</td>\n",
       "      <td>0.044621</td>\n",
       "      <td>13497.0</td>\n",
       "      <td>772.367607</td>\n",
       "      <td>917.657293</td>\n",
       "    </tr>\n",
       "    <tr>\n",
       "      <th>5003</th>\n",
       "      <td>5003.0</td>\n",
       "      <td>0.028951</td>\n",
       "      <td>13505.0</td>\n",
       "      <td>851.171836</td>\n",
       "      <td>728.877576</td>\n",
       "    </tr>\n",
       "    <tr>\n",
       "      <th>5003</th>\n",
       "      <td>5003.0</td>\n",
       "      <td>0.022209</td>\n",
       "      <td>13514.0</td>\n",
       "      <td>421.679776</td>\n",
       "      <td>438.603694</td>\n",
       "    </tr>\n",
       "    <tr>\n",
       "      <th>5003</th>\n",
       "      <td>5003.0</td>\n",
       "      <td>0.033797</td>\n",
       "      <td>13562.0</td>\n",
       "      <td>529.768546</td>\n",
       "      <td>129.030995</td>\n",
       "    </tr>\n",
       "    <tr>\n",
       "      <th>5003</th>\n",
       "      <td>5003.0</td>\n",
       "      <td>0.042153</td>\n",
       "      <td>13568.0</td>\n",
       "      <td>861.199738</td>\n",
       "      <td>697.106342</td>\n",
       "    </tr>\n",
       "    <tr>\n",
       "      <th>5003</th>\n",
       "      <td>5003.0</td>\n",
       "      <td>0.033358</td>\n",
       "      <td>13598.0</td>\n",
       "      <td>432.236941</td>\n",
       "      <td>466.256445</td>\n",
       "    </tr>\n",
       "    <tr>\n",
       "      <th>5003</th>\n",
       "      <td>5003.0</td>\n",
       "      <td>0.039310</td>\n",
       "      <td>13615.0</td>\n",
       "      <td>723.631082</td>\n",
       "      <td>370.588740</td>\n",
       "    </tr>\n",
       "    <tr>\n",
       "      <th>5003</th>\n",
       "      <td>5003.0</td>\n",
       "      <td>0.032425</td>\n",
       "      <td>13627.0</td>\n",
       "      <td>642.217920</td>\n",
       "      <td>161.681586</td>\n",
       "    </tr>\n",
       "    <tr>\n",
       "      <th>5003</th>\n",
       "      <td>5003.0</td>\n",
       "      <td>0.034353</td>\n",
       "      <td>13630.0</td>\n",
       "      <td>780.529261</td>\n",
       "      <td>717.394897</td>\n",
       "    </tr>\n",
       "    <tr>\n",
       "      <th>5003</th>\n",
       "      <td>5003.0</td>\n",
       "      <td>0.020658</td>\n",
       "      <td>13637.0</td>\n",
       "      <td>876.923754</td>\n",
       "      <td>815.288042</td>\n",
       "    </tr>\n",
       "    <tr>\n",
       "      <th>5003</th>\n",
       "      <td>5003.0</td>\n",
       "      <td>0.035098</td>\n",
       "      <td>13654.0</td>\n",
       "      <td>704.295465</td>\n",
       "      <td>417.768222</td>\n",
       "    </tr>\n",
       "    <tr>\n",
       "      <th>5003</th>\n",
       "      <td>5003.0</td>\n",
       "      <td>0.026997</td>\n",
       "      <td>13672.0</td>\n",
       "      <td>672.920446</td>\n",
       "      <td>144.498553</td>\n",
       "    </tr>\n",
       "    <tr>\n",
       "      <th>5003</th>\n",
       "      <td>5003.0</td>\n",
       "      <td>0.026774</td>\n",
       "      <td>13674.0</td>\n",
       "      <td>551.283842</td>\n",
       "      <td>407.795117</td>\n",
       "    </tr>\n",
       "    <tr>\n",
       "      <th>5003</th>\n",
       "      <td>5003.0</td>\n",
       "      <td>0.029644</td>\n",
       "      <td>13688.0</td>\n",
       "      <td>648.847129</td>\n",
       "      <td>738.931197</td>\n",
       "    </tr>\n",
       "    <tr>\n",
       "      <th>5003</th>\n",
       "      <td>5003.0</td>\n",
       "      <td>0.030529</td>\n",
       "      <td>13723.0</td>\n",
       "      <td>601.696684</td>\n",
       "      <td>459.284961</td>\n",
       "    </tr>\n",
       "    <tr>\n",
       "      <th>5003</th>\n",
       "      <td>5003.0</td>\n",
       "      <td>0.032673</td>\n",
       "      <td>13747.0</td>\n",
       "      <td>362.078787</td>\n",
       "      <td>253.582982</td>\n",
       "    </tr>\n",
       "    <tr>\n",
       "      <th>5003</th>\n",
       "      <td>5003.0</td>\n",
       "      <td>0.039157</td>\n",
       "      <td>13751.0</td>\n",
       "      <td>704.623141</td>\n",
       "      <td>205.164335</td>\n",
       "    </tr>\n",
       "    <tr>\n",
       "      <th>5003</th>\n",
       "      <td>5003.0</td>\n",
       "      <td>0.027269</td>\n",
       "      <td>13754.0</td>\n",
       "      <td>626.513989</td>\n",
       "      <td>231.755362</td>\n",
       "    </tr>\n",
       "    <tr>\n",
       "      <th>5003</th>\n",
       "      <td>5003.0</td>\n",
       "      <td>0.041620</td>\n",
       "      <td>13763.0</td>\n",
       "      <td>752.195690</td>\n",
       "      <td>193.554201</td>\n",
       "    </tr>\n",
       "    <tr>\n",
       "      <th>5003</th>\n",
       "      <td>5003.0</td>\n",
       "      <td>0.028612</td>\n",
       "      <td>13769.0</td>\n",
       "      <td>607.956299</td>\n",
       "      <td>384.386090</td>\n",
       "    </tr>\n",
       "    <tr>\n",
       "      <th>5003</th>\n",
       "      <td>5003.0</td>\n",
       "      <td>0.029670</td>\n",
       "      <td>13770.0</td>\n",
       "      <td>682.269377</td>\n",
       "      <td>814.875263</td>\n",
       "    </tr>\n",
       "    <tr>\n",
       "      <th>5003</th>\n",
       "      <td>5003.0</td>\n",
       "      <td>0.042719</td>\n",
       "      <td>13784.0</td>\n",
       "      <td>693.041834</td>\n",
       "      <td>892.536954</td>\n",
       "    </tr>\n",
       "    <tr>\n",
       "      <th>5003</th>\n",
       "      <td>5003.0</td>\n",
       "      <td>0.032556</td>\n",
       "      <td>13786.0</td>\n",
       "      <td>613.807130</td>\n",
       "      <td>442.248098</td>\n",
       "    </tr>\n",
       "    <tr>\n",
       "      <th>5003</th>\n",
       "      <td>5003.0</td>\n",
       "      <td>0.029613</td>\n",
       "      <td>13789.0</td>\n",
       "      <td>683.069162</td>\n",
       "      <td>291.079410</td>\n",
       "    </tr>\n",
       "    <tr>\n",
       "      <th>5003</th>\n",
       "      <td>5003.0</td>\n",
       "      <td>0.034982</td>\n",
       "      <td>13802.0</td>\n",
       "      <td>689.632315</td>\n",
       "      <td>181.015193</td>\n",
       "    </tr>\n",
       "    <tr>\n",
       "      <th>5003</th>\n",
       "      <td>5003.0</td>\n",
       "      <td>0.029491</td>\n",
       "      <td>13808.0</td>\n",
       "      <td>640.904116</td>\n",
       "      <td>409.183657</td>\n",
       "    </tr>\n",
       "  </tbody>\n",
       "</table>\n",
       "<p>291020 rows × 5 columns</p>\n",
       "</div>"
      ],
      "text/plain": [
       "        frame        ep  particle           x           y\n",
       "frame                                                    \n",
       "0         0.0  0.048181       1.0  549.336236  143.804503\n",
       "0         0.0  0.041715       4.0  372.135563  168.389727\n",
       "0         0.0  0.051584       5.0  516.364185  169.557935\n",
       "0         0.0  0.052604       6.0  476.871945  171.904461\n",
       "0         0.0  0.051734       8.0  579.902433  175.419332\n",
       "0         0.0  0.046582      18.0  362.085964  252.677716\n",
       "0         0.0  0.042600      22.0  388.877641  279.323083\n",
       "0         0.0  0.062479      28.0  701.583660  330.457355\n",
       "0         0.0  0.076062      29.0  276.993789  330.646458\n",
       "0         0.0  0.048221      32.0  488.218460  351.535848\n",
       "0         0.0  0.035703      38.0  610.764315  402.128264\n",
       "0         0.0  0.051403      44.0  676.406612  425.220745\n",
       "0         0.0  0.044682      45.0  520.180984  427.874325\n",
       "0         0.0  0.047732      47.0  332.137824  433.804756\n",
       "0         0.0  0.049822      48.0  551.822039  436.167129\n",
       "0         0.0  0.047765      49.0  639.461303  438.999729\n",
       "0         0.0  0.065475      50.0  708.271235  443.750257\n",
       "0         0.0  0.046287      52.0  683.056148  444.504551\n",
       "0         0.0  0.034480      53.0  424.259051  444.571425\n",
       "0         0.0  0.047445      55.0  368.685134  448.142441\n",
       "0         0.0  0.049140      61.0  416.298241  486.138220\n",
       "0         0.0  0.053764      63.0  588.420699  492.108519\n",
       "0         0.0  0.041998      64.0  465.927233  501.761578\n",
       "0         0.0  0.050404      68.0  540.492818  513.787206\n",
       "0         0.0  0.048289      70.0  494.281463  534.085273\n",
       "0         0.0  0.059382      71.0  390.461047  536.899489\n",
       "0         0.0  0.049146      72.0  547.109317  558.933580\n",
       "0         0.0  0.068313      73.0  507.012833  570.903157\n",
       "0         0.0  0.063912      74.0  634.064273  671.080914\n",
       "0         0.0  0.062176      78.0  721.614218  722.521004\n",
       "...       ...       ...       ...         ...         ...\n",
       "5003   5003.0  0.027756   11767.0  655.201374  721.206466\n",
       "5003   5003.0  0.029918   12240.0  676.924960  735.012984\n",
       "5003   5003.0  0.023633   13194.0  408.072154  245.514449\n",
       "5003   5003.0  0.032657   13481.0  405.642142  175.247834\n",
       "5003   5003.0  0.044621   13497.0  772.367607  917.657293\n",
       "5003   5003.0  0.028951   13505.0  851.171836  728.877576\n",
       "5003   5003.0  0.022209   13514.0  421.679776  438.603694\n",
       "5003   5003.0  0.033797   13562.0  529.768546  129.030995\n",
       "5003   5003.0  0.042153   13568.0  861.199738  697.106342\n",
       "5003   5003.0  0.033358   13598.0  432.236941  466.256445\n",
       "5003   5003.0  0.039310   13615.0  723.631082  370.588740\n",
       "5003   5003.0  0.032425   13627.0  642.217920  161.681586\n",
       "5003   5003.0  0.034353   13630.0  780.529261  717.394897\n",
       "5003   5003.0  0.020658   13637.0  876.923754  815.288042\n",
       "5003   5003.0  0.035098   13654.0  704.295465  417.768222\n",
       "5003   5003.0  0.026997   13672.0  672.920446  144.498553\n",
       "5003   5003.0  0.026774   13674.0  551.283842  407.795117\n",
       "5003   5003.0  0.029644   13688.0  648.847129  738.931197\n",
       "5003   5003.0  0.030529   13723.0  601.696684  459.284961\n",
       "5003   5003.0  0.032673   13747.0  362.078787  253.582982\n",
       "5003   5003.0  0.039157   13751.0  704.623141  205.164335\n",
       "5003   5003.0  0.027269   13754.0  626.513989  231.755362\n",
       "5003   5003.0  0.041620   13763.0  752.195690  193.554201\n",
       "5003   5003.0  0.028612   13769.0  607.956299  384.386090\n",
       "5003   5003.0  0.029670   13770.0  682.269377  814.875263\n",
       "5003   5003.0  0.042719   13784.0  693.041834  892.536954\n",
       "5003   5003.0  0.032556   13786.0  613.807130  442.248098\n",
       "5003   5003.0  0.029613   13789.0  683.069162  291.079410\n",
       "5003   5003.0  0.034982   13802.0  689.632315  181.015193\n",
       "5003   5003.0  0.029491   13808.0  640.904116  409.183657\n",
       "\n",
       "[291020 rows x 5 columns]"
      ]
     },
     "execution_count": 38,
     "metadata": {},
     "output_type": "execute_result"
    }
   ],
   "source": [
    "framerate = 1/11.999\n",
    "magnification = 0.12690355329e-6\n",
    "relevant = trajectory_dataframe[['frame', 'ep', 'particle', 'x', 'y']]\n",
    "relevant"
   ]
  },
  {
   "cell_type": "code",
   "execution_count": 40,
   "metadata": {
    "collapsed": true
   },
   "outputs": [],
   "source": [
    "def single_vector(dataframe, max_counts):\n",
    "    lastrow = [0,0,0,0]\n",
    "    single = []\n",
    "    for i in range (0, max_counts):\n",
    "        if dataframe[dataframe['particle'] == i].empty == False:\n",
    "            frame = np.array(dataframe[dataframe['particle'] == i][['x','y', 'ep', 'frame']])\n",
    "            firstrow = [frame[0,0], frame[0,1], frame[0,2], frame[0,3]]\n",
    "            new_frame = frame - firstrow + lastrow \n",
    "            length = len(frame)-1\n",
    "            lastrow = [new_frame[length,0], new_frame[length,1], new_frame[length,2], new_frame[length,3]]\n",
    "            single += list(new_frame)\n",
    "    return np.array(single)"
   ]
  },
  {
   "cell_type": "code",
   "execution_count": 91,
   "metadata": {
    "collapsed": false,
    "scrolled": false
   },
   "outputs": [
    {
     "name": "stdout",
     "output_type": "stream",
     "text": [
      "CPU times: user 11.7 s, sys: 214 ms, total: 11.9 s\n",
      "Wall time: 12 s\n"
     ]
    }
   ],
   "source": [
    "particle_max = 14000\n",
    "%time single = single_vector(relevant, particle_max)\n",
    "single[:,0] *= magnification\n",
    "single[:,1] *= magnification\n",
    "single[:,2] *= magnification\n",
    "single[:,3] *= framerate\n"
   ]
  },
  {
   "cell_type": "markdown",
   "metadata": {},
   "source": [
    "Unfortunately, our likelihood function right now only accepts time displacement as input rather than absolute time. TODO: change so that input is absolute time."
   ]
  },
  {
   "cell_type": "code",
   "execution_count": 92,
   "metadata": {
    "collapsed": false
   },
   "outputs": [],
   "source": [
    "timedifference = list(np.diff(single[:,3]))\n",
    "counter = np.arange(0,len(timedifference))\n",
    "timedifference.insert(0,0)"
   ]
  },
  {
   "cell_type": "code",
   "execution_count": 93,
   "metadata": {
    "collapsed": false
   },
   "outputs": [],
   "source": [
    "new_single = np.copy(single)\n",
    "new_single[:,3] = timedifference"
   ]
  },
  {
   "cell_type": "code",
   "execution_count": 95,
   "metadata": {
    "collapsed": false
   },
   "outputs": [
    {
     "data": {
      "text/plain": [
       "2"
      ]
     },
     "execution_count": 95,
     "metadata": {},
     "output_type": "execute_result"
    }
   ],
   "source": [
    "single_diffusion = diffusion(new_single)\n",
    "single_diffusion.dim"
   ]
  },
  {
   "cell_type": "code",
   "execution_count": 96,
   "metadata": {
    "collapsed": false,
    "scrolled": true
   },
   "outputs": [
    {
     "data": {
      "text/plain": [
       "[<matplotlib.lines.Line2D at 0x1137f19e8>]"
      ]
     },
     "execution_count": 96,
     "metadata": {},
     "output_type": "execute_result"
    },
    {
     "data": {
      "image/png": "[encoded data removed]",
      "text/plain": [
       "<matplotlib.figure.Figure at 0x113884cf8>"
      ]
     },
     "metadata": {},
     "output_type": "display_data"
    }
   ],
   "source": [
    "plt.plot(single_diffusion.x, single_diffusion.y)"
   ]
  },
  {
   "cell_type": "code",
   "execution_count": 105,
   "metadata": {
    "collapsed": false
   },
   "outputs": [
    {
     "name": "stdout",
     "output_type": "stream",
     "text": [
      "CPU times: user 4min 14s, sys: 1min 16s, total: 5min 31s\n",
      "Wall time: 13min 9s\n"
     ]
    }
   ],
   "source": [
    "%time D, Dbest, loglikelihood, Dmin, Dmax = max_likelihood_estimation(single_diffusion, -14, -12, 10000)"
   ]
  },
  {
   "cell_type": "code",
   "execution_count": 109,
   "metadata": {
    "collapsed": false
   },
   "outputs": [
    {
     "name": "stdout",
     "output_type": "stream",
     "text": [
      "Maximum Likelihood Estimation: D = 3.892e-13 + 1.077e-15 - 1.074e-15\n"
     ]
    }
   ],
   "source": [
    "print(\"Maximum Likelihood Estimation: D = {:.3e} + {:.3e} - {:.3e}\".format(Dbest, \n",
    "                                            Dmax-Dbest,\n",
    "                                            Dbest-Dmin))"
   ]
  },
  {
   "cell_type": "code",
   "execution_count": null,
   "metadata": {
    "collapsed": true
   },
   "outputs": [],
   "source": []
  }
 ],
 "metadata": {
  "kernelspec": {
   "display_name": "Python 3",
   "language": "python",
   "name": "python3"
  },
  "language_info": {
   "codemirror_mode": {
    "name": "ipython",
    "version": 3
   },
   "file_extension": ".py",
   "mimetype": "text/x-python",
   "name": "python",
   "nbconvert_exporter": "python",
   "pygments_lexer": "ipython3",
   "version": "3.5.1"
  }
 },
 "nbformat": 4,
 "nbformat_minor": 0
}
