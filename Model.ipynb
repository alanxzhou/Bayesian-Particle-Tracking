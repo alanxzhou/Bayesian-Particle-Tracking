{
 "cells": [
  {
   "cell_type": "markdown",
   "metadata": {},
   "source": [
    "## Bayesian Particle Tracking\n",
    "\n",
    "Alan Zhou"
   ]
  },
  {
   "cell_type": "markdown",
   "metadata": {},
   "source": [
    "### Generative Model"
   ]
  },
  {
   "cell_type": "markdown",
   "metadata": {},
   "source": [
    "Because the diffusion process follows the normal distribution, writing down a generative model is straightforward. For any given data point, the PDF for the distance a particle will travel by brownian motion is given by:\n",
    "\n",
    "$$P(\\Delta r|\\theta_i) = \\frac{1}{\\sqrt{2\\pi \\beta^2}}\\exp{\\frac{-(\\Delta r)^2}{2\\beta^2}}$$\n",
    "\n",
    "where the $\\theta_i$ are the parameters of the model. These are $a$, radius of the particle, $\\mu$, dynamic viscosity of the medium, $T$, temperature, and $\\tau$, time constant. These show up in our above equation since $\\beta$ is given by $\\sqrt{6D\\tau}$. And from Stokes - Einstein we know:\n",
    "\n",
    "$$D = \\frac{k_bT}{6\\pi\\mu a}$$\n",
    "\n",
    "where $k_b$ is Boltzmann's constant."
   ]
  },
  {
   "cell_type": "markdown",
   "metadata": {},
   "source": [
    "### Likelihood Function"
   ]
  },
  {
   "cell_type": "markdown",
   "metadata": {},
   "source": [
    "If we assume that the error term in the measurement of a position is Gaussian, we can see that for a given data point, we have (as in Gregory 4.51) the convolution of two gaussians:\n",
    "\n",
    "$$p(Y_i|M,\\theta_i,I)=\\frac{1}{\\sqrt{2\\pi}\\sqrt{\\beta^2+\\sigma_{i}^2}}\\exp{\\frac{-(y_i-m(x_i|\\theta_i))^2}{2(\\beta^2+\\sigma_{i}^2)}}$$\n",
    "\n",
    "where $\\theta_i$ represents the parameters of the model and $\\sigma_i$ is the uncertainty on the displacement measurement and is given by\n",
    "\n",
    "$$\\sigma_{i}^2 = \\sigma_{m,i}^2 + \\sigma_{m,i-1}^2$$\n",
    "\n",
    "where $\\sigma_j$ is the measurement uncertainty on point j."
   ]
  },
  {
   "cell_type": "markdown",
   "metadata": {},
   "source": [
    "For n data points we have a likelihood function that is just the product of n such gaussians:\n",
    "\n",
    "$$p(\\Delta r_{1,2}, \\Delta r_{2,3}, ..., \\Delta r_{n-1, n}|M,\\theta_i,I) = \\Pi_{i=1}^n p(\\Delta r_{i-1,i}|M,\\theta_i,I)$$\n",
    "\n",
    "$$=(2\\pi)^{-N/2}\\{\\Pi_{i=1}^n(\\beta^2+\\sigma_{i}^2)^{-1/2}\\}\\exp\\{\\sum_{i=1}^N(\\frac{-(\\Delta r)^2}{2(\\beta^2+\\sigma_{i}^2)}\\}$$\n",
    "\n",
    "As a function of the coordinate positions of each particle in the ith frame $x_i,y_i,z_i$, the likelihood function is:\n",
    "\n",
    "$$p(D|M,\\theta,I)=(2\\pi)^{-N/2}\\{\\Pi_{i=1}^n\\frac{1}{\\sqrt{(\\beta^2+\\sigma_i^2)}}\\}\\exp\\{\\sum_{i=1}^N(-\\frac{(x_i-x_{i-1})^2+(y_i-y_{i-1})^2+(z_i-z_{i-1})^2}{2(\\beta^2+\\sigma_i^2)}\\}$$"
   ]
  },
  {
   "cell_type": "markdown",
   "metadata": {},
   "source": [
    "## Analysis of Test Data:"
   ]
  },
  {
   "cell_type": "markdown",
   "metadata": {},
   "source": [
    "We start by creating 3D simulated data (commented out because the data already exists in the root directory). We use values of $\\sigma = 10^{-8}$, $\\mu = 10^{-4}$, $a = 10^{-8}$, $T = 300K$, and 1000 steps of duration 1 second each. This gives us a value of \n",
    "\n",
    "$$D = \\frac{k_bT}{6\\pi\\mu a} = 2.1973*10^{-10}$$"
   ]
  },
  {
   "cell_type": "markdown",
   "metadata": {},
   "source": [
    "Our initial analysis will involve MCMC to find our 'missing' parameter D."
   ]
  },
  {
   "cell_type": "code",
   "execution_count": 1,
   "metadata": {
    "collapsed": false
   },
   "outputs": [
    {
     "name": "stderr",
     "output_type": "stream",
     "text": [
      "/Users/alanzhou/anaconda3/lib/python3.5/site-packages/pandas/computation/__init__.py:19: UserWarning: The installed version of numexpr 2.4.4 is not supported in pandas and will be not be used\n",
      "\n",
      "  UserWarning)\n"
     ]
    }
   ],
   "source": [
    "%matplotlib inline\n",
    "\n",
    "import Bayesian_Particle_Tracking\n",
    "\n",
    "from Bayesian_Particle_Tracking import model\n",
    "from Bayesian_Particle_Tracking.model import diffusion, log_likelihood, log_posterior, log_prior\n",
    "from Bayesian_Particle_Tracking.prior import JeffreysPrior, UniformPrior\n",
    "from Bayesian_Particle_Tracking.generate_data import data_generation, generator\n",
    "from Bayesian_Particle_Tracking import io\n",
    "from Bayesian_Particle_Tracking.data_analysis import max_likelihood_estimation, MSD, Nind, sigma_var, CGW_analysis\n",
    "import emcee\n",
    "import matplotlib.pyplot as plt\n",
    "import numpy as np\n",
    "import seaborn as sns"
   ]
  },
  {
   "cell_type": "code",
   "execution_count": 2,
   "metadata": {
    "collapsed": false
   },
   "outputs": [],
   "source": [
    "new_data = io.get_example_model('test_data.npy')"
   ]
  },
  {
   "cell_type": "markdown",
   "metadata": {},
   "source": [
    "WIthe two out of three parameters known (e.g., mu and T) we can either do MCMC for just the single parameter remaining. Or we can follow the procedure in Gregory 3.8 to find $p(\\theta|D,M,I)$ where $\\theta$ is the Diffusion coefficient or the remaining parameter in question (since both are directly proportional to each other, finding one is the equivalent of finding the other)."
   ]
  },
  {
   "cell_type": "code",
   "execution_count": 4,
   "metadata": {
    "collapsed": false
   },
   "outputs": [
    {
     "name": "stdout",
     "output_type": "stream",
     "text": [
      "CPU times: user 6.96 s, sys: 51.3 ms, total: 7.01 s\n",
      "Wall time: 7.07 s\n",
      "Done\n"
     ]
    }
   ],
   "source": [
    "#the model has 1 parameter; we'll use 40 walkers and 500 steps\n",
    "ndim = 1\n",
    "nwalkers = 20\n",
    "nsteps = 500\n",
    "\n",
    "starting_positions = [abs(10**(-10) + 1e-10*np.random.randn(ndim)) for i in range(nwalkers)]\n",
    "\n",
    "# set up the sampler object\n",
    "sampler = emcee.EnsembleSampler(nwalkers, ndim, log_posterior, \n",
    "                                args=[new_data])\n",
    "# run the sampler. We use iPython's %time directive to tell us \n",
    "# how long it took (in a script, you would leave out \"%time\")\n",
    "%time sampler.run_mcmc(starting_positions, nsteps)\n",
    "print('Done')"
   ]
  },
  {
   "cell_type": "code",
   "execution_count": 5,
   "metadata": {
    "collapsed": false,
    "scrolled": true
   },
   "outputs": [
    {
     "data": {
      "image/png": "[encoded data removed]",
      "text/plain": [
       "<matplotlib.figure.Figure at 0x10d2d6780>"
      ]
     },
     "metadata": {},
     "output_type": "display_data"
    }
   ],
   "source": [
    "fig, (ax_D) = plt.subplots(1)\n",
    "ax_D.set(ylabel='D')\n",
    "for i in range(nwalkers):\n",
    "    sns.tsplot(sampler.chain[i,:,0], ax=ax_D)"
   ]
  },
  {
   "cell_type": "markdown",
   "metadata": {},
   "source": [
    "This is a pretty fast burn in time. We'll cut out the first 50 steps."
   ]
  },
  {
   "cell_type": "code",
   "execution_count": 6,
   "metadata": {
    "collapsed": true
   },
   "outputs": [],
   "source": [
    "samples = sampler.chain[:,50:,:]\n",
    "# reshape the samples into a 1D array where the column is D\n",
    "traces = samples.reshape(-1, ndim).T\n",
    "# create a pandas DataFrame with labels. \n",
    "parameter_samples = pd.DataFrame({'D': traces[0]})"
   ]
  },
  {
   "cell_type": "code",
   "execution_count": 7,
   "metadata": {
    "collapsed": false,
    "scrolled": true
   },
   "outputs": [
    {
     "data": {
      "text/plain": [
       "<matplotlib.text.Text at 0x10f7e3ba8>"
      ]
     },
     "execution_count": 7,
     "metadata": {},
     "output_type": "execute_result"
    },
    {
     "data": {
      "image/png": "[encoded data removed]",
      "text/plain": [
       "<matplotlib.figure.Figure at 0x10f78a080>"
      ]
     },
     "metadata": {},
     "output_type": "display_data"
    }
   ],
   "source": [
    "sns.kdeplot(parameter_samples['D'])\n",
    "plt.title('$D$')"
   ]
  },
  {
   "cell_type": "code",
   "execution_count": 8,
   "metadata": {
    "collapsed": false
   },
   "outputs": [
    {
     "name": "stdout",
     "output_type": "stream",
     "text": [
      "D = 2.193e-10 + 3.249e-12 - 2.819e-12\n"
     ]
    }
   ],
   "source": [
    "q = parameter_samples.quantile([0.16,0.50,0.84], axis=0)\n",
    "\n",
    "print(\"D = {:.3e} + {:.3e} - {:.3e}\".format(q['D'][0.50], \n",
    "                                            q['D'][0.84]-q['D'][0.50],\n",
    "                                            q['D'][0.50]-q['D'][0.16]))"
   ]
  },
  {
   "cell_type": "markdown",
   "metadata": {},
   "source": [
    "This is really nice, and very close to what we expected. And our true value lies well within our 68% credibility interval. For larger data sets we should expect the value to converge to the true value. For a demonstration of the analysis on a larger data set, go to the tutorial notebook."
   ]
  },
  {
   "cell_type": "markdown",
   "metadata": {
    "collapsed": true
   },
   "source": [
    "We might know the values of two out of the three parameters (usually temperature and another one) and thus would be interested in directly ascertaining the value of the third parameter.\n",
    "\n",
    "Let's try finding our value for $a$. We generated the test data using $\\mu = 10^{-4}$, $\\sigma = 10^{-8}$, $T = 300$, $n_{steps} = 1000$, and $a = 10^{-8}$. So if our model works correctly, we should return $a = 10^{-8}$ after inputting our known values for the other parameters."
   ]
  },
  {
   "cell_type": "code",
   "execution_count": 9,
   "metadata": {
    "collapsed": false
   },
   "outputs": [
    {
     "name": "stdout",
     "output_type": "stream",
     "text": [
      "CPU times: user 7.95 s, sys: 95.9 ms, total: 8.05 s\n",
      "Wall time: 8.34 s\n",
      "Done\n"
     ]
    }
   ],
   "source": [
    "#the model has 1 parameter; we'll use 40 walkers and 500 steps\n",
    "ndim = 1\n",
    "nwalkers = 20\n",
    "nsteps = 500\n",
    "\n",
    "starting_positions = [abs(10**(-8) + 1e-10*np.random.randn(ndim)) for i in range(nwalkers)]\n",
    "\n",
    "# set up the sampler object\n",
    "sampler = emcee.EnsembleSampler(nwalkers, ndim, log_posterior, \n",
    "                                args=[new_data],\n",
    "                                kwargs = {'lower_bound': 1e-10, 'upper_bound': 1e-6, 'unknown': 'a', 'known_variables': (1e-4, 300)})\n",
    "# run the sampler. We use iPython's %time directive to tell us \n",
    "# how long it took (in a script, you would leave out \"%time\")\n",
    "%time sampler.run_mcmc(starting_positions, nsteps)\n",
    "print('Done')"
   ]
  },
  {
   "cell_type": "code",
   "execution_count": 10,
   "metadata": {
    "collapsed": false
   },
   "outputs": [
    {
     "data": {
      "image/png": "[encoded data removed]",
      "text/plain": [
       "<matplotlib.figure.Figure at 0x111d13710>"
      ]
     },
     "metadata": {},
     "output_type": "display_data"
    }
   ],
   "source": [
    "fig, (ax_a) = plt.subplots(1)\n",
    "ax_a.set(ylabel='a')\n",
    "for i in range(nwalkers):\n",
    "    sns.tsplot(sampler.chain[i,:,0], ax=ax_a)"
   ]
  },
  {
   "cell_type": "code",
   "execution_count": 11,
   "metadata": {
    "collapsed": true
   },
   "outputs": [],
   "source": [
    "samples = sampler.chain[:,100:,:]\n",
    "# reshape the samples into a 1D array where the column is D\n",
    "traces = samples.reshape(-1, ndim).T\n",
    "# create a pandas DataFrame with labels. \n",
    "parameter_samples = pd.DataFrame({'a': traces[0]})"
   ]
  },
  {
   "cell_type": "code",
   "execution_count": 12,
   "metadata": {
    "collapsed": false
   },
   "outputs": [
    {
     "data": {
      "text/plain": [
       "<matplotlib.text.Text at 0x111f60d68>"
      ]
     },
     "execution_count": 12,
     "metadata": {},
     "output_type": "execute_result"
    },
    {
     "data": {
      "image/png": "[encoded data removed]",
      "text/plain": [
       "<matplotlib.figure.Figure at 0x111ebe4e0>"
      ]
     },
     "metadata": {},
     "output_type": "display_data"
    }
   ],
   "source": [
    "sns.kdeplot(parameter_samples['a'])\n",
    "plt.title('$a$')"
   ]
  },
  {
   "cell_type": "code",
   "execution_count": 13,
   "metadata": {
    "collapsed": false
   },
   "outputs": [
    {
     "name": "stdout",
     "output_type": "stream",
     "text": [
      "a = 1.002e-08 + 1.450e-10 - 1.445e-10\n"
     ]
    }
   ],
   "source": [
    "q = parameter_samples.quantile([0.16,0.50,0.84], axis=0)\n",
    "\n",
    "print(\"a = {:.3e} + {:.3e} - {:.3e}\".format(q['a'][0.50], \n",
    "                                            q['a'][0.84]-q['a'][0.50],\n",
    "                                            q['a'][0.50]-q['a'][0.16]))"
   ]
  },
  {
   "cell_type": "markdown",
   "metadata": {},
   "source": [
    "This is about about what we expected. Of course, our value for $a$ would be more accurate with a larger data set. At the very least we see that we slightly overestimated D, so we should expect to slightly underestimate $a$ (since $D\\propto \\frac{1}{a}$)."
   ]
  },
  {
   "cell_type": "markdown",
   "metadata": {},
   "source": [
    "Now let's try simple Maximum Likelihood Estimation:"
   ]
  },
  {
   "cell_type": "code",
   "execution_count": 3,
   "metadata": {
    "collapsed": false
   },
   "outputs": [],
   "source": [
    "D, Dbest, loglike, Dmin, Dmax = max_likelihood_estimation(new_data, -11, -9, 10000)"
   ]
  },
  {
   "cell_type": "code",
   "execution_count": 4,
   "metadata": {
    "collapsed": false
   },
   "outputs": [
    {
     "name": "stdout",
     "output_type": "stream",
     "text": [
      "D = 2.1925e-10 + 3.1527e-12 - 3.0085e-12\n"
     ]
    }
   ],
   "source": [
    "print(\"D = {:.4e} + {:.4e} - {:.4e}\".format(Dbest, \n",
    "                                            Dmax-Dbest,\n",
    "                                            Dbest-Dmin))"
   ]
  },
  {
   "cell_type": "markdown",
   "metadata": {},
   "source": [
    "# CGW\n",
    "\n",
    "Compare our above methods to the CGW method."
   ]
  },
  {
   "cell_type": "code",
   "execution_count": 33,
   "metadata": {
    "collapsed": false
   },
   "outputs": [],
   "source": [
    "msd, sigma, counter = CGW_analysis(new_data, 1000, down_sample = 1)"
   ]
  },
  {
   "cell_type": "code",
   "execution_count": 34,
   "metadata": {
    "collapsed": false
   },
   "outputs": [
    {
     "data": {
      "text/plain": [
       "<matplotlib.text.Text at 0x1107a72e8>"
      ]
     },
     "execution_count": 34,
     "metadata": {},
     "output_type": "execute_result"
    },
    {
     "data": {
      "image/png": "[encoded data removed]",
      "text/plain": [
       "<matplotlib.figure.Figure at 0x11075a438>"
      ]
     },
     "metadata": {},
     "output_type": "display_data"
    }
   ],
   "source": [
    "plt.errorbar(counter, msd, yerr = sigma, fmt = '.')\n",
    "plt.xlabel('lagtime')\n",
    "plt.ylabel('MSD')"
   ]
  },
  {
   "cell_type": "code",
   "execution_count": 35,
   "metadata": {
    "collapsed": true
   },
   "outputs": [],
   "source": [
    "from scipy.optimize import curve_fit"
   ]
  },
  {
   "cell_type": "code",
   "execution_count": 36,
   "metadata": {
    "collapsed": true
   },
   "outputs": [],
   "source": [
    "def f(tau,D):\n",
    "    return 6*D*tau"
   ]
  },
  {
   "cell_type": "code",
   "execution_count": 37,
   "metadata": {
    "collapsed": false
   },
   "outputs": [
    {
     "data": {
      "text/plain": [
       "array([  3.00936175e-13])"
      ]
     },
     "execution_count": 37,
     "metadata": {},
     "output_type": "execute_result"
    }
   ],
   "source": [
    "popt, pcov = curve_fit(f, counter, msd, sigma = sigma)\n",
    "D = popt[0]\n",
    "sigma_D = np.sqrt(pcov[0])\n",
    "sigma_D"
   ]
  },
  {
   "cell_type": "code",
   "execution_count": 38,
   "metadata": {
    "collapsed": false
   },
   "outputs": [
    {
     "name": "stdout",
     "output_type": "stream",
     "text": [
      "a = 2.253e-10 + 3.009e-13 - 3.009e-13\n"
     ]
    }
   ],
   "source": [
    "print(\"a = %.3e + %.3e - %.3e\" %(D, sigma_D, sigma_D))"
   ]
  },
  {
   "cell_type": "markdown",
   "metadata": {
    "collapsed": true
   },
   "source": [
    "Much less accurate!"
   ]
  },
  {
   "cell_type": "code",
   "execution_count": 49,
   "metadata": {
    "collapsed": false
   },
   "outputs": [
    {
     "name": "stdout",
     "output_type": "stream",
     "text": [
      "CPU times: user 73.7 ms, sys: 1.59 ms, total: 75.3 ms\n",
      "Wall time: 75.4 ms\n"
     ]
    }
   ],
   "source": [
    "%time D, Dbest, loglike, Dmin, Dmax = max_likelihood_estimation(new_data, -11, -9, 100)"
   ]
  },
  {
   "cell_type": "code",
   "execution_count": 50,
   "metadata": {
    "collapsed": false
   },
   "outputs": [
    {
     "name": "stdout",
     "output_type": "stream",
     "text": [
      "D = 2.1544e-10 + 0.0000e+00 - 0.0000e+00\n"
     ]
    }
   ],
   "source": [
    "print(\"D = {:.4e} + {:.4e} - {:.4e}\".format(Dbest, \n",
    "                                            Dmax-Dbest,\n",
    "                                            Dbest-Dmin))"
   ]
  },
  {
   "cell_type": "code",
   "execution_count": 65,
   "metadata": {
    "collapsed": false
   },
   "outputs": [
    {
     "data": {
      "text/plain": [
       "86028.0"
      ]
     },
     "execution_count": 65,
     "metadata": {},
     "output_type": "execute_result"
    }
   ],
   "source": [
    "round(log_posterior(1e-10, new_data))"
   ]
  },
  {
   "cell_type": "code",
   "execution_count": 66,
   "metadata": {
    "collapsed": false
   },
   "outputs": [
    {
     "data": {
      "text/plain": [
       "-inf"
      ]
     },
     "execution_count": 66,
     "metadata": {},
     "output_type": "execute_result"
    }
   ],
   "source": [
    "log_posterior(1e-6,new_data)"
   ]
  },
  {
   "cell_type": "code",
   "execution_count": null,
   "metadata": {
    "collapsed": true
   },
   "outputs": [],
   "source": []
  }
 ],
 "metadata": {
  "kernelspec": {
   "display_name": "Python 3",
   "language": "python",
   "name": "python3"
  },
  "language_info": {
   "codemirror_mode": {
    "name": "ipython",
    "version": 3
   },
   "file_extension": ".py",
   "mimetype": "text/x-python",
   "name": "python",
   "nbconvert_exporter": "python",
   "pygments_lexer": "ipython3",
   "version": "3.5.1"
  }
 },
 "nbformat": 4,
 "nbformat_minor": 0
}
