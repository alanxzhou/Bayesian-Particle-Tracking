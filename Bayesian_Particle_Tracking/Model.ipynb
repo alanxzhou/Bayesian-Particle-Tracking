{
 "cells": [
  {
   "cell_type": "markdown",
   "metadata": {},
   "source": [
    "# L10\n",
    "\n",
    "## Bayesian Particle Tracking\n",
    "\n",
    "Alan Zhou"
   ]
  },
  {
   "cell_type": "markdown",
   "metadata": {},
   "source": [
    "For the minimum requirement of my project, I'll be analyzing the 3D trajectory data of multiple particles along with the uncertainties in their positions.\n",
    "\n",
    "Fortunately, because the diffusion process follows the normal distribution, writing down a model is straightforward. For any given data point, the PDF for the distance a particle will travel by brownian motion is given by:\n",
    "\n",
    "$$P(\\Delta r|\\theta_i) = \\frac{1}{\\sqrt{2\\pi \\sigma^2}}\\exp{\\frac{-(\\Delta r)^2}{2\\sigma^2}}$$\n",
    "\n",
    "where the $\\theta_i$ are the parameters of the model. These are $a$, radius of the particle, $\\mu$, dynamic viscosity of the medium, $T$, temperature, and $\\tau$, time constant. These show up in our above equation since $\\sigma$ is given by $\\sqrt{3D\\tau}$. And from Stokes - Einstein we know:\n",
    "\n",
    "$$D = \\frac{k_bT}{6\\pi\\mu a}$$\n",
    "\n",
    "where $k_b$ is Boltzmann's constant."
   ]
  },
  {
   "cell_type": "markdown",
   "metadata": {},
   "source": [
    "If we assume that the error term in the measurement of a position is Gaussian, we can see that for a given data point, we have (as in Gregory 4.51) the convolution of two gaussians:\n",
    "\n",
    "$$p(Y_i|M,\\theta,I)=\\frac{1}{\\sqrt{2\\pi}\\sqrt{\\sigma_i^2+\\sigma_{mi}^2}}\\exp{\\frac{-(y_i-m(x_i|\\theta_i))^2}{2(\\sigma_i^2+\\sigma_{mi}^2)}}$$\n",
    "\n",
    "where $\\theta_i$ represents the parameters of the model"
   ]
  },
  {
   "cell_type": "markdown",
   "metadata": {},
   "source": [
    "For n data points we have a likelihood function that is just the product of n such gaussians:\n",
    "\n",
    "$$p(\\Delta r_{1,2}, \\Delta r_{2,3}, ..., \\Delta r_{n-1, n}|M,\\theta_i,) = \\Pi_{i=1}^n p(\\Delta x_{i-1,i}|\\theta_i)$$\n",
    "\n",
    "$$=(2\\pi)^{-N/2}\\{\\Pi_{i=1}^n(\\sigma_i^2+\\sigma_{mi}^2)^{-1/2}\\}\\exp\\{\\sum_{i=1}^N(\\frac{-(\\Delta r)^2}{2(\\sigma_i^2+\\sigma_{mi}^2)}\\}$$\n",
    "\n",
    "As a function of the coordinate positions of each particle in the ith frame $x_i,y_i,z_i$, the likelihood function is:\n",
    "\n",
    "$$p(D|M,\\theta,I)=(2\\pi)^{-N/2}\\{\\Pi_{i=1}^n\\frac{1}{\\sqrt{(\\sigma_i^2+\\sigma_{mi}^2)}}\\}\\exp\\{\\sum_{i=1}^N(-\\frac{(x_i-x_{i-1})^2+(y_i-y_{i-1})^2+(z_i-z_{i-1})^2}{2(\\sigma_i^2+\\sigma_{mi}^2)}\\}$$"
   ]
  },
  {
   "cell_type": "code",
   "execution_count": null,
   "metadata": {
    "collapsed": true
   },
   "outputs": [],
   "source": []
  }
 ],
 "metadata": {
  "kernelspec": {
   "display_name": "Python 3",
   "language": "python",
   "name": "python3"
  },
  "language_info": {
   "codemirror_mode": {
    "name": "ipython",
    "version": 3
   },
   "file_extension": ".py",
   "mimetype": "text/x-python",
   "name": "python",
   "nbconvert_exporter": "python",
   "pygments_lexer": "ipython3",
   "version": "3.5.1"
  }
 },
 "nbformat": 4,
 "nbformat_minor": 0
}
