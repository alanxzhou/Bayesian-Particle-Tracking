{
 "cells": [
  {
   "cell_type": "code",
   "execution_count": 1,
   "metadata": {
    "collapsed": true
   },
   "outputs": [],
   "source": [
    "%matplotlib inline\n",
    "\n",
    "import Bayesian_Particle_Tracking\n",
    "from Bayesian_Particle_Tracking import model\n",
    "from Bayesian_Particle_Tracking.model import log_likelihood, log_posterior, log_prior, diffusion\n",
    "from Bayesian_Particle_Tracking import io\n",
    "from Bayesian_Particle_Tracking.prior import JeffreysPrior, UniformPrior\n",
    "from Bayesian_Particle_Tracking.printable import Printable\n",
    "from Bayesian_Particle_Tracking import generate_data\n",
    "from Bayesian_Particle_Tracking.generate_data import data_generation, generator\n",
    "import emcee\n",
    "import matplotlib.pyplot as plt\n",
    "import numpy as np\n",
    "import pandas as pd\n",
    "import seaborn as sns"
   ]
  },
  {
   "cell_type": "markdown",
   "metadata": {},
   "source": [
    "### Testing np.diff()\n",
    "\n",
    "For some reason np.diff() seems to be pretty slow compared to copying an array twice (offset by one) and subtracting the copies from each other."
   ]
  },
  {
   "cell_type": "code",
   "execution_count": 12,
   "metadata": {
    "collapsed": false
   },
   "outputs": [
    {
     "name": "stdout",
     "output_type": "stream",
     "text": [
      "The slowest run took 5.93 times longer than the fastest. This could mean that an intermediate result is being cached \n",
      "100000 loops, best of 3: 17 µs per loop\n"
     ]
    }
   ],
   "source": [
    "home_dir = \"/Users/alanzhou/Documents/Physics_201/final_project/Bayesian-Particle-Tracking/\"\n",
    "data = np.load(home_dir + 'test_data.npy')\n",
    "new_data = diffusion(data)\n",
    "\n",
    "def test_function(diffusion_object):\n",
    "    data = diffusion_object.data\n",
    "    point_before = data[:len(data)-1]\n",
    "    x_before, y_before, z_before = point_before[:,0], point_before[:,1], point_before[:,2]\n",
    "    data_points = data[1:]\n",
    "    x_data, y_data, z_data = data_points[:,0], data_points[:,1], data_points[:,2]\n",
    "    distance = np.sqrt((x_before-x_data)**2+(y_before-y_data)**2+(z_before-z_data)**2)\n",
    "    return(distance)\n",
    "\n",
    "%timeit test_function(new_data)"
   ]
  },
  {
   "cell_type": "code",
   "execution_count": 3,
   "metadata": {
    "collapsed": false
   },
   "outputs": [
    {
     "name": "stdout",
     "output_type": "stream",
     "text": [
      "The slowest run took 8.16 times longer than the fastest. This could mean that an intermediate result is being cached \n",
      "10000 loops, best of 3: 29.2 µs per loop\n"
     ]
    }
   ],
   "source": [
    "def new_function(diffusion_object):\n",
    "    xyz = diffusion_object.data\n",
    "    data = np.array((xyz[:,0], xyz[:,1], xyz[:,2])).T\n",
    "    distance = np.sqrt(np.sum(np.diff(data, axis = 0)**2,axis = 1))\n",
    "    return(distance)\n",
    "\n",
    "%timeit new_function(new_data)"
   ]
  },
  {
   "cell_type": "code",
   "execution_count": 4,
   "metadata": {
    "collapsed": false
   },
   "outputs": [
    {
     "name": "stdout",
     "output_type": "stream",
     "text": [
      "The slowest run took 6.85 times longer than the fastest. This could mean that an intermediate result is being cached \n",
      "100000 loops, best of 3: 3.65 µs per loop\n"
     ]
    },
    {
     "data": {
      "text/plain": [
       "array([  1,   1,   1,   1,  16, -14,   1,   1,   1])"
      ]
     },
     "execution_count": 4,
     "metadata": {},
     "output_type": "execute_result"
    }
   ],
   "source": [
    "test_array = np.array(np.arange(0,10))\n",
    "test_array[5] = 20\n",
    "%timeit np.diff(test_array)\n",
    "np.diff(test_array)"
   ]
  },
  {
   "cell_type": "code",
   "execution_count": 5,
   "metadata": {
    "collapsed": false
   },
   "outputs": [
    {
     "name": "stdout",
     "output_type": "stream",
     "text": [
      "The slowest run took 18.51 times longer than the fastest. This could mean that an intermediate result is being cached \n",
      "1000000 loops, best of 3: 1.19 µs per loop\n"
     ]
    },
    {
     "data": {
      "text/plain": [
       "array([  1,   1,   1,   1,  16, -14,   1,   1,   1])"
      ]
     },
     "execution_count": 5,
     "metadata": {},
     "output_type": "execute_result"
    }
   ],
   "source": [
    "def diff(data):\n",
    "    point_before = data[:len(data)-1]\n",
    "    data_points = data[1:]\n",
    "    distance = data_points-point_before\n",
    "    return distance\n",
    "\n",
    "%timeit diff(test_array)\n",
    "diff(test_array)"
   ]
  },
  {
   "cell_type": "markdown",
   "metadata": {},
   "source": [
    "### Testing diffusion class and log_likelihood() speed\n",
    "\n",
    "It seems that putting that the location of the displacement function doesn't really significantly impact speed"
   ]
  },
  {
   "cell_type": "code",
   "execution_count": 6,
   "metadata": {
    "collapsed": true
   },
   "outputs": [],
   "source": [
    "home_dir = \"/Users/alanzhou/Documents/Physics_201/final_project/Bayesian-Particle-Tracking/\"\n",
    "data = np.load(home_dir + 'test_data.npy')\n",
    "\n",
    "testD = 2e-10"
   ]
  },
  {
   "cell_type": "code",
   "execution_count": 7,
   "metadata": {
    "collapsed": true
   },
   "outputs": [],
   "source": [
    "class diffusion1(Printable):\n",
    "    '''\n",
    "    Contains data and relevent parameters for a 3-D Diffusion Process\n",
    "\n",
    "    Attributes\n",
    "    ----------\n",
    "    data: size 3 x n array\n",
    "        positional data input in cartesian coordinates (x,y,z)\n",
    "    sigma: nonzero float\n",
    "        specifies measurement uncertainty on measurement of particle position\n",
    "    n : integer\n",
    "        number of steps taken in diffusion process\n",
    "    position: length 3 listlike\n",
    "        initial position\n",
    "    nwalkers: integer\n",
    "        number of particles being tracked. TO BE IMPLEMENTED\n",
    "    '''\n",
    "    def __init__(self, data, nwalkers = 1):\n",
    "        self.data = data\n",
    "        self.n = len(data)\n",
    "        self.initial_position = data[0]\n",
    "        self.x = data[:,0]\n",
    "        self.y = data[:,1]\n",
    "        self.z = data[:,2]\n",
    "        self.sigma = data[:,3]\n",
    "    \n",
    "    #Allows translation of the object\n",
    "    def translate(self, offset):\n",
    "        return diffusion(np.array((self.x+offset, self.y+offset, self.z+offset, self.sigma)).T)\n",
    "    \n",
    "    def displacement(self):\n",
    "        data = self.data\n",
    "        point_before = data[:len(data)-1]\n",
    "        x_before, y_before, z_before = point_before[:,0], point_before[:,1], point_before[:,2]\n",
    "        data_points = data[1:]\n",
    "        x_data, y_data, z_data = data_points[:,0], data_points[:,1], data_points[:,2]\n",
    "        distance = np.sqrt((x_before-x_data)**2+(y_before-y_data)**2+(z_before-z_data)**2)\n",
    "        return(distance)\n",
    "\n",
    "\n",
    "def log_likelihood1(D, diffusion_object, tau = 1):\n",
    "    \"\"\"\n",
    "    Likelihood function for 3D diffusion process of a single particle.\n",
    "\n",
    "    Parameter:\n",
    "        diffusion_object: contains the following:\n",
    "            data: positional data: assumes data is in the form of column vectors (traj_x,traj_y,traj_z)\n",
    "                where traj_x,traj_y,traj_z are the coordinate positions of the particle\n",
    "            sigma: variance on positional data; we assume the uncertainty is Gaussian; true dependency will be from raw image data\n",
    "        D: diffusion coefficient;\n",
    "    \"\"\"\n",
    "\n",
    "    data = diffusion_object.data\n",
    "    sigma = diffusion_object.sigma\n",
    "    distance = diffusion_object.displacement()\n",
    "    \n",
    "    #Delete the first element of the sigma array to match array sizes\n",
    "    sigma = sigma[:len(sigma)-1]\n",
    "    \n",
    "    #TODO: rename\n",
    "    sigma1 = np.sqrt(6*D*tau)\n",
    "\n",
    "    #Should be correct with the correct log properties\n",
    "    result = (-len(data)/2)*np.log(2*np.pi)+np.sum(np.log((sigma1**2+sigma**2)**(-1/2)))+np.sum(-((distance)**2)/(2*(sigma1**2+sigma**2)))\n",
    "    return result\n",
    "\n",
    "diffusion_data = diffusion1(data)"
   ]
  },
  {
   "cell_type": "code",
   "execution_count": 8,
   "metadata": {
    "collapsed": false
   },
   "outputs": [
    {
     "name": "stdout",
     "output_type": "stream",
     "text": [
      "The slowest run took 4.08 times longer than the fastest. This could mean that an intermediate result is being cached \n",
      "10000 loops, best of 3: 84.9 µs per loop\n"
     ]
    }
   ],
   "source": [
    "%timeit log_likelihood1(testD, diffusion_data)"
   ]
  },
  {
   "cell_type": "code",
   "execution_count": 9,
   "metadata": {
    "collapsed": false
   },
   "outputs": [
    {
     "name": "stdout",
     "output_type": "stream",
     "text": [
      "The slowest run took 4.62 times longer than the fastest. This could mean that an intermediate result is being cached \n",
      "100000 loops, best of 3: 2.19 µs per loop\n"
     ]
    }
   ],
   "source": [
    "%timeit diffusion_data = diffusion1(data)"
   ]
  },
  {
   "cell_type": "code",
   "execution_count": 10,
   "metadata": {
    "collapsed": true
   },
   "outputs": [],
   "source": [
    "class diffusion(Printable):\n",
    "    '''\n",
    "    Contains data and relevent parameters for a 3-D Diffusion Process\n",
    "\n",
    "    Attributes\n",
    "    ----------\n",
    "    data: size 3 x n array\n",
    "        positional data input in cartesian coordinates (x,y,z)\n",
    "    sigma: nonzero float\n",
    "        specifies measurement uncertainty on measurement of particle position\n",
    "    n : integer\n",
    "        number of steps taken in diffusion process\n",
    "    position: length 3 listlike\n",
    "        initial position\n",
    "    nwalkers: integer\n",
    "        number of particles being tracked. TO BE IMPLEMENTED\n",
    "    '''\n",
    "    def __init__(self, data, nwalkers = 1):\n",
    "        self.data = data\n",
    "        self.n = len(data)\n",
    "        self.initial_position = data[0]\n",
    "        self.x = data[:,0]\n",
    "        self.y = data[:,1]\n",
    "        self.z = data[:,2]\n",
    "        self.sigma = data[:,3]\n",
    "    \n",
    "    #Allows translation of the object\n",
    "    def translate(self, offset):\n",
    "        return diffusion(np.array((self.x+offset, self.y+offset, self.z+offset, self.sigma)).T)\n",
    "\n",
    "def log_likelihood(D, diffusion_object, tau = 1):\n",
    "    \"\"\"\n",
    "    Likelihood function for 3D diffusion process of a single particle.\n",
    "\n",
    "    Parameter:\n",
    "        diffusion_object: contains the following:\n",
    "            data: positional data: assumes data is in the form of column vectors (traj_x,traj_y,traj_z)\n",
    "                where traj_x,traj_y,traj_z are the coordinate positions of the particle\n",
    "            sigma: variance on positional data; we assume the uncertainty is Gaussian; true dependency will be from raw image data\n",
    "        D: diffusion coefficient;\n",
    "    \"\"\"\n",
    "\n",
    "    data = diffusion_object.data\n",
    "    sigma = diffusion_object.sigma\n",
    "    \n",
    "    #Delete the first element of the sigma array to match array sizes\n",
    "    sigma = sigma[:len(sigma)-1]\n",
    "    \n",
    "    #TODO: rename\n",
    "    sigma1 = np.sqrt(6*D*tau)\n",
    "    \n",
    "    #This should give us the delta x_{i,i-1}. \n",
    "    #point_before is the data list minus the last element.\n",
    "    #data_points is the data list minus the first element.\n",
    "    #distance is array containing the displacements between two consecutive points in the series.\n",
    "    #TODO: np.diff seems to run a lot slower than the following 4 lines:\n",
    "\n",
    "    point_before = data[:len(data)-1]\n",
    "    x_before, y_before, z_before = point_before[:,0], point_before[:,1], point_before[:,2]\n",
    "    data_points = data[1:]\n",
    "    x_data, y_data, z_data = data_points[:,0], data_points[:,1], data_points[:,2]\n",
    "\n",
    "    distance = np.sqrt((x_before-x_data)**2+(y_before-y_data)**2+(z_before-z_data)**2)\n",
    "\n",
    "    #Should be correct with the correct log properties\n",
    "    result = (-len(data)/2)*np.log(2*np.pi)+np.sum(np.log((sigma1**2+sigma**2)**(-1/2)))+np.sum(-((distance)**2)/(2*(sigma1**2+sigma**2)))\n",
    "    return result\n",
    "\n",
    "diffusion_data = diffusion(data)"
   ]
  },
  {
   "cell_type": "code",
   "execution_count": 11,
   "metadata": {
    "collapsed": false
   },
   "outputs": [
    {
     "name": "stdout",
     "output_type": "stream",
     "text": [
      "10000 loops, best of 3: 85 µs per loop\n"
     ]
    }
   ],
   "source": [
    "%timeit log_likelihood(testD, diffusion_data)"
   ]
  },
  {
   "cell_type": "code",
   "execution_count": 12,
   "metadata": {
    "collapsed": false
   },
   "outputs": [
    {
     "name": "stdout",
     "output_type": "stream",
     "text": [
      "The slowest run took 4.14 times longer than the fastest. This could mean that an intermediate result is being cached \n",
      "100000 loops, best of 3: 2.54 µs per loop\n"
     ]
    }
   ],
   "source": [
    "%timeit diffusion_data = diffusion(data)"
   ]
  },
  {
   "cell_type": "markdown",
   "metadata": {},
   "source": [
    "### Raising exceptions\n",
    "\n",
    "Figuring out"
   ]
  },
  {
   "cell_type": "code",
   "execution_count": 25,
   "metadata": {
    "collapsed": false
   },
   "outputs": [],
   "source": [
    "def exception_test(lala):\n",
    "    if isinstance(lala, int):\n",
    "        print('not an int')\n",
    "    else:\n",
    "        print('is an int')"
   ]
  },
  {
   "cell_type": "code",
   "execution_count": 26,
   "metadata": {
    "collapsed": false
   },
   "outputs": [
    {
     "name": "stdout",
     "output_type": "stream",
     "text": [
      "is an int\n",
      "not an int\n",
      "is an int\n"
     ]
    }
   ],
   "source": [
    "exception_test('hi')\n",
    "exception_test(10)\n",
    "exception_test([0,0])"
   ]
  },
  {
   "cell_type": "code",
   "execution_count": 34,
   "metadata": {
    "collapsed": true
   },
   "outputs": [],
   "source": [
    "def exception_test2(test_value):\n",
    "    if not isinstance(test_value, int):\n",
    "        raise ValueError('is not an int')"
   ]
  },
  {
   "cell_type": "code",
   "execution_count": 35,
   "metadata": {
    "collapsed": false
   },
   "outputs": [
    {
     "ename": "ValueError",
     "evalue": "is not an int",
     "output_type": "error",
     "traceback": [
      "\u001b[0;31m---------------------------------------------------------------------------\u001b[0m",
      "\u001b[0;31mValueError\u001b[0m                                Traceback (most recent call last)",
      "\u001b[0;32m<ipython-input-35-f423c19b60bf>\u001b[0m in \u001b[0;36m<module>\u001b[0;34m()\u001b[0m\n\u001b[0;32m----> 1\u001b[0;31m \u001b[0mexception_test2\u001b[0m\u001b[0;34m(\u001b[0m\u001b[0;34m'lala'\u001b[0m\u001b[0;34m)\u001b[0m\u001b[0;34m\u001b[0m\u001b[0m\n\u001b[0m",
      "\u001b[0;32m<ipython-input-34-6d2a7eb43c57>\u001b[0m in \u001b[0;36mexception_test2\u001b[0;34m(test_value)\u001b[0m\n\u001b[1;32m      1\u001b[0m \u001b[0;32mdef\u001b[0m \u001b[0mexception_test2\u001b[0m\u001b[0;34m(\u001b[0m\u001b[0mtest_value\u001b[0m\u001b[0;34m)\u001b[0m\u001b[0;34m:\u001b[0m\u001b[0;34m\u001b[0m\u001b[0m\n\u001b[1;32m      2\u001b[0m     \u001b[0;32mif\u001b[0m \u001b[0;32mnot\u001b[0m \u001b[0misinstance\u001b[0m\u001b[0;34m(\u001b[0m\u001b[0mtest_value\u001b[0m\u001b[0;34m,\u001b[0m \u001b[0mint\u001b[0m\u001b[0;34m)\u001b[0m\u001b[0;34m:\u001b[0m\u001b[0;34m\u001b[0m\u001b[0m\n\u001b[0;32m----> 3\u001b[0;31m         \u001b[0;32mraise\u001b[0m \u001b[0mValueError\u001b[0m\u001b[0;34m(\u001b[0m\u001b[0;34m'is not an int'\u001b[0m\u001b[0;34m)\u001b[0m\u001b[0;34m\u001b[0m\u001b[0m\n\u001b[0m",
      "\u001b[0;31mValueError\u001b[0m: is not an int"
     ]
    }
   ],
   "source": [
    "exception_test2('lala')\n"
   ]
  },
  {
   "cell_type": "code",
   "execution_count": 36,
   "metadata": {
    "collapsed": false
   },
   "outputs": [
    {
     "name": "stdout",
     "output_type": "stream",
     "text": [
      "lalala is not\n"
     ]
    }
   ],
   "source": [
    "test_string = 'lalala'\n",
    "\n",
    "print('%s is not' %test_string)"
   ]
  },
  {
   "cell_type": "markdown",
   "metadata": {},
   "source": [
    "Test to allow input dimensions for log_likelihood"
   ]
  },
  {
   "cell_type": "code",
   "execution_count": 37,
   "metadata": {
    "collapsed": true
   },
   "outputs": [],
   "source": [
    "from numpy.random import normal"
   ]
  },
  {
   "cell_type": "code",
   "execution_count": 34,
   "metadata": {
    "collapsed": false
   },
   "outputs": [
    {
     "data": {
      "text/plain": [
       "[<matplotlib.lines.Line2D at 0x10d2f79b0>]"
      ]
     },
     "execution_count": 34,
     "metadata": {},
     "output_type": "execute_result"
    },
    {
     "data": {
      "image/png": "[encoded data removed]",
      "text/plain": [
       "<matplotlib.figure.Figure at 0x1111f9c50>"
      ]
     },
     "metadata": {},
     "output_type": "display_data"
    }
   ],
   "source": [
    "test_data = generator(1000,10**(-8),10**(-4),10**(-8),[0,0,0])\n",
    "test_data = diffusion(test_data)\n",
    "plt.plot(test_data.x, test_data.y)"
   ]
  },
  {
   "cell_type": "code",
   "execution_count": 32,
   "metadata": {
    "collapsed": false
   },
   "outputs": [
    {
     "data": {
      "text/plain": [
       "2.196717336104949e-10"
      ]
     },
     "execution_count": 32,
     "metadata": {},
     "output_type": "execute_result"
    }
   ],
   "source": [
    "maxindex = [np.max(logposteriorD)==logposteriorD]\n",
    "np.argmax(logposteriorD)\n",
    "D[np.argmax(logposteriorD)]"
   ]
  },
  {
   "cell_type": "code",
   "execution_count": 40,
   "metadata": {
    "collapsed": false,
    "scrolled": false
   },
   "outputs": [
    {
     "name": "stdout",
     "output_type": "stream",
     "text": [
      "2.21934317634e-10\n",
      "2.21983381722e-10\n"
     ]
    },
    {
     "data": {
      "image/png": "[encoded data removed]",
      "text/plain": [
       "<matplotlib.figure.Figure at 0x10d727b38>"
      ]
     },
     "metadata": {},
     "output_type": "display_data"
    }
   ],
   "source": [
    "test_data = generator(10000,1e-30,10**(-4),10**(-8),[0,0,0])\n",
    "test_data = diffusion(test_data)\n",
    "D = np.logspace(-10.5, -9.3, 100000)\n",
    "logpriorD = np.array(list(map(log_prior,D)))\n",
    "loglikelihoodD = np.array(list(map(lambda d: log_likelihood(d, test_data), D)))\n",
    "logposteriorD = logpriorD + loglikelihoodD\n",
    "plt.plot(D, logposteriorD)\n",
    "maxindex = [np.max(logposteriorD)==logposteriorD]\n",
    "np.argmax(logposteriorD)\n",
    "print(D[np.argmax(logposteriorD)])\n",
    "print(D[np.argmax(loglikelihoodD)])"
   ]
  },
  {
   "cell_type": "code",
   "execution_count": 52,
   "metadata": {
    "collapsed": false
   },
   "outputs": [
    {
     "data": {
      "text/plain": [
       "1"
      ]
     },
     "execution_count": 52,
     "metadata": {},
     "output_type": "execute_result"
    }
   ],
   "source": [
    "estimation_index = [loglikelihoodD > (loglikelihoodD.max() - 0.5)]"
   ]
  },
  {
   "cell_type": "code",
   "execution_count": 30,
   "metadata": {
    "collapsed": false
   },
   "outputs": [
    {
     "data": {
      "text/plain": [
       "88055.984500000006"
      ]
     },
     "execution_count": 30,
     "metadata": {},
     "output_type": "execute_result"
    }
   ],
   "source": [
    "estimation_index = [D > log_likeli]"
   ]
  },
  {
   "cell_type": "code",
   "execution_count": 33,
   "metadata": {
    "collapsed": false
   },
   "outputs": [
    {
     "name": "stdout",
     "output_type": "stream",
     "text": [
      "2.23714687116e-10\n"
     ]
    },
    {
     "data": {
      "image/png": "[encoded data removed]",
      "text/plain": [
       "<matplotlib.figure.Figure at 0x10da7d0b8>"
      ]
     },
     "metadata": {},
     "output_type": "display_data"
    }
   ],
   "source": [
    "test_data = generator(10000,1e-30,10**(-4),10**(-8),[0,0,0])\n",
    "test_data = diffusion(test_data)\n",
    "D = np.logspace(-11, -9.3, 100000)\n",
    "logpriorD = np.array(list(map(log_prior,D)))\n",
    "loglikelihoodD = np.array(list(map(lambda d: log_likelihood(d, test_data), D)))\n",
    "logposteriorD = logpriorD + loglikelihoodD\n",
    "plt.plot(D, logposteriorD)\n",
    "maxindex = [np.max(logposteriorD)==logposteriorD]\n",
    "np.argmax(logposteriorD)\n",
    "print(D[np.argmax(logposteriorD)])"
   ]
  },
  {
   "cell_type": "code",
   "execution_count": null,
   "metadata": {
    "collapsed": true
   },
   "outputs": [],
   "source": [
    "rnoise = normal(0, sigma, nsteps)\n",
    "thetanoise = uniform(0,np.pi,nsteps)\n",
    "phinoise = uniform(0,2*np.pi,nsteps)\n",
    "    #Spherical to Cartesian Coordinates\n",
    "x_noise = rnoise*np.sin(thetanoise)*np.cos(phinoise)\n",
    "y_noise = rnoise*np.sin(thetanoise)*np.sin(phinoise)\n",
    "z_noise = rnoise*np.cos(thetanoise)"
   ]
  }
 ],
 "metadata": {
  "kernelspec": {
   "display_name": "Python 3",
   "language": "python",
   "name": "python3"
  },
  "language_info": {
   "codemirror_mode": {
    "name": "ipython",
    "version": 3
   },
   "file_extension": ".py",
   "mimetype": "text/x-python",
   "name": "python",
   "nbconvert_exporter": "python",
   "pygments_lexer": "ipython3",
   "version": "3.5.1"
  }
 },
 "nbformat": 4,
 "nbformat_minor": 0
}
