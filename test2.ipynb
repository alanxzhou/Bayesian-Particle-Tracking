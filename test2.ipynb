{
 "cells": [
  {
   "cell_type": "code",
   "execution_count": 2,
   "metadata": {
    "collapsed": false
   },
   "outputs": [
    {
     "name": "stderr",
     "output_type": "stream",
     "text": [
      "/Users/alanzhou/anaconda3/lib/python3.5/site-packages/pandas/computation/__init__.py:19: UserWarning: The installed version of numexpr 2.4.4 is not supported in pandas and will be not be used\n",
      "\n",
      "  UserWarning)\n"
     ]
    }
   ],
   "source": [
    "%matplotlib inline\n",
    "\n",
    "import Bayesian_Particle_Tracking\n",
    "from Bayesian_Particle_Tracking import model\n",
    "from Bayesian_Particle_Tracking.model import log_likelihood, log_posterior, log_prior, diffusion, displacement\n",
    "from Bayesian_Particle_Tracking import io\n",
    "from Bayesian_Particle_Tracking.prior import JeffreysPrior, UniformPrior\n",
    "from Bayesian_Particle_Tracking.data_analysis import max_likelihood_estimation, MSD, Nind, sigma_var, CGW_analysis\n",
    "from Bayesian_Particle_Tracking.generate_data import generator\n",
    "import emcee\n",
    "import matplotlib.pyplot as plt\n",
    "import numpy as np\n",
    "import pandas as pd\n",
    "import seaborn as sns\n",
    "import pickle\n",
    "import math"
   ]
  },
  {
   "cell_type": "code",
   "execution_count": 3,
   "metadata": {
    "collapsed": true
   },
   "outputs": [],
   "source": [
    "data = io.get_example_model('test_data.npy')"
   ]
  },
  {
   "cell_type": "code",
   "execution_count": 19,
   "metadata": {
    "collapsed": false
   },
   "outputs": [],
   "source": [
    "test_data = generator(1000,1e-8,1e-10,[0,0,0], parameter = \"D\")\n",
    "test_data = diffusion(test_data)"
   ]
  },
  {
   "cell_type": "code",
   "execution_count": 313,
   "metadata": {
    "collapsed": true
   },
   "outputs": [],
   "source": [
    "def safe_likelihood(diffusion_object, max_value, log_lower_bound, log_upper_bound, iterations, safety_factor = 1, start_value = 0):\n",
    "    D = np.logspace(log_lower_bound, log_upper_bound, iterations)\n",
    "    for i in range(start_value, max_value):\n",
    "        result = np.array(list(map(lambda d: likelihood(d, test_data, 10**(-i/safety_factor)), D)))\n",
    "        total = np.sum(result)\n",
    "        print(\"max: %.3e min: %.3e total: %.3e\" %(result.max(), result.min(), total))\n",
    "        if total > 0 and total != np.inf:\n",
    "            return D, result/total, i/safety_factor\n",
    "        if total == 0:\n",
    "            return_value_big = i/safety_factor\n",
    "            return_value_small = (i-1)/safety_factor\n",
    "            print(\"Increase Safety Factor. Good value of safety_scale/safety_factor is between %.4e and %.4e\" %(return_value_small, return_value_big))\n",
    "            break\n",
    "    print(\"max_value.\")\n",
    "    \n",
    "    "
   ]
  },
  {
   "cell_type": "code",
   "execution_count": 321,
   "metadata": {
    "collapsed": false
   },
   "outputs": [],
   "source": [
    "def safe_likelihood(diffusion_object, max_value, log_lower_bound, log_upper_bound, iterations, safety_factor = 1, start_value = 0, safety_constant = 0):\n",
    "    D = np.logspace(log_lower_bound, log_upper_bound, iterations)\n",
    "    for i in range(start_value, max_value):\n",
    "        result = np.array(list(map(lambda d: likelihood(d, test_data, 10**(-i/safety_factor - safety_constant)), D)))\n",
    "        total = np.sum(result)\n",
    "        if total > 0 and total != np.inf:\n",
    "            print(\"max: %.3e min: %.3e total: %.3e\" %(result.max(), result.min(), total))\n",
    "            print(\"Exponent: %.4f\" %(-i/safety_factor - safety_constant))\n",
    "            return D, result/total, i/safety_factor - safety_constant\n",
    "        if total == 0:\n",
    "            return_value_big = i/safety_factor + safety_constant\n",
    "            return_value_small = (i-1)/safety_factor + safety_constant\n",
    "            print(\"Good value of (-i/safety_factor - safety_constant) is between %.4f and %.4f\" %(return_value_small, return_value_big))\n",
    "            return safe_likelihood(diffusion_object, max_value, log_lower_bound, log_upper_bound, iterations, safety_factor = safety_factor + 1, safety_constant = return_value_small)\n",
    "    print(\"Did not find a safe value. Try increasing the number of iterations or changing the safety factor.\")\n",
    "    return None\n",
    "    "
   ]
  },
  {
   "cell_type": "code",
   "execution_count": 5,
   "metadata": {
    "collapsed": true
   },
   "outputs": [],
   "source": [
    "def likelihood(theta, diffusion_object, safety_scale, unknown = 'D', known_variables = None):\n",
    "\n",
    "    data = diffusion_object.data\n",
    "    ndim = diffusion_object.dim\n",
    "    sigma_m = diffusion_object.sigma_m\n",
    "\n",
    "    #This code assumes the diffusion obeject gives absolute time instead of time displacements\n",
    "    time = diffusion_object.time\n",
    "    tau = time[1:len(time)] - time[0:len(time)-1]\n",
    "    distance = displacement(data)\n",
    "\n",
    "    if unknown == 'D':\n",
    "        D = theta\n",
    "    \n",
    "    #sigma is the error on the displacement. This comes from the error propogation terms in the positional measurments, sigma1 and sigma2.\n",
    "    sigma_1 = sigma_m[1:len(sigma_m)]\n",
    "    sigma_2 = sigma_m[:len(sigma_m)-1]\n",
    "    sigma = np.sqrt(sigma_1**2+sigma_2**2)\n",
    "\n",
    "    diffusion_factor = np.sqrt(2*ndim*D*tau)\n",
    "\n",
    "    result = (2*np.pi)**(-len(data)/2)*np.product(safety_scale/np.sqrt(sigma**2+diffusion_factor**2))*np.exp(np.sum(-((distance)**2)/(2*(diffusion_factor**2+sigma**2))))\n",
    "\n",
    "    return result"
   ]
  },
  {
   "cell_type": "code",
   "execution_count": 51,
   "metadata": {
    "collapsed": false,
    "scrolled": false
   },
   "outputs": [
    {
     "data": {
      "text/plain": [
       "nan"
      ]
     },
     "execution_count": 51,
     "metadata": {},
     "output_type": "execute_result"
    }
   ],
   "source": [
    "#D, test_likelihood, scale = safe_likelihood(test_data, 100, -10.5, -9.5, 100, safety_factor = 1, start_value = 0)\n",
    "D = np.logspace(-10.5,-9.5,999)\n",
    "likelihood(D, test_data, 10**(-4.302361001))\n",
    "#print(scale)\n",
    "#print(D[np.argmax(test_likelihood)])"
   ]
  },
  {
   "cell_type": "code",
   "execution_count": 9,
   "metadata": {
    "collapsed": false
   },
   "outputs": [
    {
     "ename": "NameError",
     "evalue": "name 'test_likelihood' is not defined",
     "output_type": "error",
     "traceback": [
      "\u001b[0;31m---------------------------------------------------------------------------\u001b[0m",
      "\u001b[0;31mNameError\u001b[0m                                 Traceback (most recent call last)",
      "\u001b[0;32m<ipython-input-9-38d7c09129c3>\u001b[0m in \u001b[0;36m<module>\u001b[0;34m()\u001b[0m\n\u001b[1;32m      1\u001b[0m \u001b[0mtest_prior\u001b[0m \u001b[0;34m=\u001b[0m \u001b[0mnp\u001b[0m\u001b[0;34m.\u001b[0m\u001b[0mexp\u001b[0m\u001b[0;34m(\u001b[0m\u001b[0mnp\u001b[0m\u001b[0;34m.\u001b[0m\u001b[0marray\u001b[0m\u001b[0;34m(\u001b[0m\u001b[0mlist\u001b[0m\u001b[0;34m(\u001b[0m\u001b[0mmap\u001b[0m\u001b[0;34m(\u001b[0m\u001b[0mlog_prior\u001b[0m\u001b[0;34m,\u001b[0m\u001b[0mD\u001b[0m\u001b[0;34m)\u001b[0m\u001b[0;34m)\u001b[0m\u001b[0;34m)\u001b[0m\u001b[0;34m)\u001b[0m\u001b[0;34m\u001b[0m\u001b[0m\n\u001b[1;32m      2\u001b[0m \u001b[0mplt\u001b[0m\u001b[0;34m.\u001b[0m\u001b[0mplot\u001b[0m\u001b[0;34m(\u001b[0m\u001b[0mD\u001b[0m\u001b[0;34m,\u001b[0m\u001b[0mtest_prior\u001b[0m\u001b[0;34m)\u001b[0m\u001b[0;34m\u001b[0m\u001b[0m\n\u001b[0;32m----> 3\u001b[0;31m \u001b[0mtest_posterior\u001b[0m \u001b[0;34m=\u001b[0m \u001b[0mtest_prior\u001b[0m\u001b[0;34m*\u001b[0m\u001b[0mtest_likelihood\u001b[0m\u001b[0;34m\u001b[0m\u001b[0m\n\u001b[0m\u001b[1;32m      4\u001b[0m \u001b[0mtest_posterior\u001b[0m \u001b[0;34m=\u001b[0m \u001b[0mtest_posterior\u001b[0m\u001b[0;34m/\u001b[0m\u001b[0mnp\u001b[0m\u001b[0;34m.\u001b[0m\u001b[0msum\u001b[0m\u001b[0;34m(\u001b[0m\u001b[0mtest_posterior\u001b[0m\u001b[0;34m)\u001b[0m\u001b[0;34m\u001b[0m\u001b[0m\n\u001b[1;32m      5\u001b[0m \u001b[0mplt\u001b[0m\u001b[0;34m.\u001b[0m\u001b[0mfigure\u001b[0m\u001b[0;34m(\u001b[0m\u001b[0;34m)\u001b[0m\u001b[0;34m\u001b[0m\u001b[0m\n",
      "\u001b[0;31mNameError\u001b[0m: name 'test_likelihood' is not defined"
     ]
    },
    {
     "data": {
      "image/png": "[encoded data removed]",
      "text/plain": [
       "<matplotlib.figure.Figure at 0x10dceb668>"
      ]
     },
     "metadata": {},
     "output_type": "display_data"
    }
   ],
   "source": [
    "test_prior = np.exp(np.array(list(map(log_prior,D))))\n",
    "plt.plot(D,test_prior)\n",
    "test_posterior = test_prior*test_likelihood\n",
    "test_posterior = test_posterior/np.sum(test_posterior)\n",
    "plt.figure()\n",
    "plt.plot(D, test_posterior)\n",
    "print(D[np.argmax(test_posterior)])"
   ]
  },
  {
   "cell_type": "code",
   "execution_count": 191,
   "metadata": {
    "collapsed": false
   },
   "outputs": [
    {
     "data": {
      "text/plain": [
       "9.6601747995226453e-11"
      ]
     },
     "execution_count": 191,
     "metadata": {},
     "output_type": "execute_result"
    }
   ],
   "source": [
    "D, Dbest, loglike, Dmin, Dmax = max_likelihood_estimation(test_data, -11, -9, 1000)\n",
    "Dbest"
   ]
  },
  {
   "cell_type": "code",
   "execution_count": null,
   "metadata": {
    "collapsed": true
   },
   "outputs": [],
   "source": []
  }
 ],
 "metadata": {
  "kernelspec": {
   "display_name": "Python 3",
   "language": "python",
   "name": "python3"
  },
  "language_info": {
   "codemirror_mode": {
    "name": "ipython",
    "version": 3
   },
   "file_extension": ".py",
   "mimetype": "text/x-python",
   "name": "python",
   "nbconvert_exporter": "python",
   "pygments_lexer": "ipython3",
   "version": "3.5.1"
  }
 },
 "nbformat": 4,
 "nbformat_minor": 0
}
