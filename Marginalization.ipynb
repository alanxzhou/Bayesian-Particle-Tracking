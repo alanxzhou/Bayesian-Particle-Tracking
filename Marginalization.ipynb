{
 "cells": [
  {
   "cell_type": "markdown",
   "metadata": {},
   "source": [
    "## Marginalization.\n",
    "\n",
    "This notebook documents efforts to make the likelihood function converge in an effort to estimate the diffusion coefficient through marginalization. If we find a way to make it converge, this notebook will be deleted and merged with the tutorial notebook."
   ]
  },
  {
   "cell_type": "code",
   "execution_count": 1,
   "metadata": {
    "collapsed": false
   },
   "outputs": [
    {
     "name": "stderr",
     "output_type": "stream",
     "text": [
      "/Users/alanzhou/anaconda3/lib/python3.5/site-packages/pandas/computation/__init__.py:19: UserWarning: The installed version of numexpr 2.4.4 is not supported in pandas and will be not be used\n",
      "\n",
      "  UserWarning)\n"
     ]
    }
   ],
   "source": [
    "%matplotlib inline\n",
    "\n",
    "import Bayesian_Particle_Tracking\n",
    "from Bayesian_Particle_Tracking import model\n",
    "from Bayesian_Particle_Tracking.model import log_likelihood, log_posterior, log_prior, diffusion, displacement\n",
    "from Bayesian_Particle_Tracking import io\n",
    "from Bayesian_Particle_Tracking.prior import JeffreysPrior, UniformPrior\n",
    "from Bayesian_Particle_Tracking.generate_data import generator\n",
    "import matplotlib.pyplot as plt\n",
    "import numpy as np\n",
    "import pandas as pd\n",
    "import seaborn as sns\n",
    "import math"
   ]
  },
  {
   "cell_type": "markdown",
   "metadata": {},
   "source": [
    "We'll start off by creating 4 separate data sets, each with the same parameters $\\sigma_{m,i} = 10^{-8}$ and $D = 10^{-10}$, with the number 10, 100, 500, and 1000  points generated respectively."
   ]
  },
  {
   "cell_type": "code",
   "execution_count": 12,
   "metadata": {
    "collapsed": false
   },
   "outputs": [],
   "source": [
    "test_data_10 = diffusion(generator(10,1e-8,1e-10,[0,0,0], parameter = \"D\"))\n",
    "test_data_100 = diffusion(generator(100,1e-8,1e-10,[0,0,0], parameter = \"D\"))\n",
    "test_data_500 = diffusion(generator(500,1e-8,1e-10,[0,0,0], parameter = \"D\"))\n",
    "test_data_1000 = diffusion(generator(1000,1e-8,1e-10,[0,0,0], parameter = \"D\"))"
   ]
  },
  {
   "cell_type": "markdown",
   "metadata": {},
   "source": [
    "This is a function that will allow us to guess the correct safety factor so that our likelihood function will converge."
   ]
  },
  {
   "cell_type": "code",
   "execution_count": 13,
   "metadata": {
    "collapsed": true
   },
   "outputs": [],
   "source": [
    "def safe_likelihood_0(diffusion_object, max_value, log_lower_bound, log_upper_bound, iterations, safety_factor = 1, start_value = 0):\n",
    "    D = np.logspace(log_lower_bound, log_upper_bound, iterations)\n",
    "    for i in range(start_value, max_value):\n",
    "        result = np.array(list(map(lambda d: likelihood(d, diffusion_object, 10**(-i/safety_factor)), D)))\n",
    "        total = np.sum(result)\n",
    "        print(\"max: %.3e min: %.3e total: %.3e\" %(result.max(), result.min(), total))\n",
    "        if total > 0 and total != np.inf:\n",
    "            return D, result/total, i/safety_factor\n",
    "        if total == 0:\n",
    "            return_value_big = i/safety_factor\n",
    "            return_value_small = (i-1)/safety_factor\n",
    "            print(\"Increase Safety Factor. Good value of safety_scale/safety_factor is between %.4e and %.4e\" %(return_value_small, return_value_big))\n",
    "            break\n",
    "    print(\"max_value.\")"
   ]
  },
  {
   "cell_type": "markdown",
   "metadata": {},
   "source": [
    "This function is a more dangerous version of the above function, as it won't really stop until the right saftey factor is found. We won't use this on the 1000 data point data set because the notebook crashes."
   ]
  },
  {
   "cell_type": "code",
   "execution_count": 4,
   "metadata": {
    "collapsed": false
   },
   "outputs": [],
   "source": [
    "def safe_likelihood(diffusion_object, max_value, log_lower_bound, log_upper_bound, iterations, safety_factor = 1, start_value = 0, safety_constant = 0):\n",
    "    D = np.logspace(log_lower_bound, log_upper_bound, iterations)\n",
    "    for i in range(start_value, max_value):\n",
    "        result = np.array(list(map(lambda d: likelihood(d, diffusion_object, 10**(-i/safety_factor - safety_constant)), D)))\n",
    "        total = np.sum(result)\n",
    "        if total > 0 and total != np.inf:\n",
    "            print(\"max: %.3e min: %.3e total: %.3e\" %(result.max(), result.min(), total))\n",
    "            print(\"Exponent: %.4f\" %(-i/safety_factor - safety_constant))\n",
    "            return D, result/total, i/safety_factor - safety_constant\n",
    "        if total == 0:\n",
    "            return_value_big = i/safety_factor + safety_constant\n",
    "            return_value_small = (i-1)/safety_factor + safety_constant\n",
    "            print(\"Good value of (-i/safety_factor - safety_constant) is between %.4f and %.4f\" %(return_value_small, return_value_big))\n",
    "            return safe_likelihood(diffusion_object, max_value, log_lower_bound, log_upper_bound, iterations, safety_factor = safety_factor + 1, safety_constant = return_value_small)\n",
    "    print(\"Did not find a safe value. Try increasing the number of iterations or changing the safety factor.\")\n",
    "    return None\n",
    "    "
   ]
  },
  {
   "cell_type": "markdown",
   "metadata": {},
   "source": [
    "We'll define our likelihood function here. "
   ]
  },
  {
   "cell_type": "code",
   "execution_count": 5,
   "metadata": {
    "collapsed": true
   },
   "outputs": [],
   "source": [
    "def likelihood(theta, diffusion_object, safety_scale, unknown = 'D', known_variables = None):\n",
    "\n",
    "    data = diffusion_object.data\n",
    "    ndim = diffusion_object.dim\n",
    "    sigma_m = diffusion_object.sigma_m\n",
    "\n",
    "    #This code assumes the diffusion obeject gives absolute time instead of time displacements\n",
    "    time = diffusion_object.time\n",
    "    tau = time[1:len(time)] - time[0:len(time)-1]\n",
    "    distance = displacement(data)\n",
    "\n",
    "    if unknown == 'D':\n",
    "        D = theta\n",
    "    \n",
    "    #sigma is the error on the displacement. This comes from the error propogation terms in the positional measurments, sigma1 and sigma2.\n",
    "    sigma_1 = sigma_m[1:len(sigma_m)]\n",
    "    sigma_2 = sigma_m[:len(sigma_m)-1]\n",
    "    sigma = np.sqrt(sigma_1**2+sigma_2**2)\n",
    "\n",
    "    diffusion_factor = np.sqrt(2*ndim*D*tau)\n",
    "\n",
    "    result = (2*np.pi)**(-len(data)/2)*np.product(safety_scale/np.sqrt(sigma**2+diffusion_factor**2))*np.exp(np.sum(-((distance)**2)/(2*(diffusion_factor**2+sigma**2))))\n",
    "\n",
    "    return result"
   ]
  },
  {
   "cell_type": "code",
   "execution_count": 21,
   "metadata": {
    "collapsed": false,
    "scrolled": false
   },
   "outputs": [
    {
     "name": "stdout",
     "output_type": "stream",
     "text": [
      "max: 7.178e+34 min: 8.483e+30 total: 3.401e+37\n",
      "Exponent: 0.0000\n",
      "scale_10: 0.000e+00\n"
     ]
    },
    {
     "data": {
      "text/plain": [
       "[<matplotlib.lines.Line2D at 0x1113d8828>]"
      ]
     },
     "execution_count": 21,
     "metadata": {},
     "output_type": "execute_result"
    },
    {
     "data": {
      "image/png": "[encoded data removed]",
      "text/plain": [
       "<matplotlib.figure.Figure at 0x1112e2320>"
      ]
     },
     "metadata": {},
     "output_type": "display_data"
    }
   ],
   "source": [
    "D_10, likelihood_10, scale_10 = safe_likelihood(test_data_10, 100, -10.5, -9.5, 1000, safety_factor = 1, start_value = 0)\n",
    "print(\"scale_10: %.3e\" %scale_10)\n",
    "plt.plot(D_10, likelihood_10)"
   ]
  },
  {
   "cell_type": "code",
   "execution_count": 22,
   "metadata": {
    "collapsed": false
   },
   "outputs": [
    {
     "name": "stdout",
     "output_type": "stream",
     "text": [
      "max: 3.478e+194 min: 6.885e+166 total: 5.385e+196\n",
      "Exponent: -2.0000\n",
      "scale_10: 2.000e+00\n"
     ]
    },
    {
     "data": {
      "text/plain": [
       "[<matplotlib.lines.Line2D at 0x111441eb8>]"
      ]
     },
     "execution_count": 22,
     "metadata": {},
     "output_type": "execute_result"
    },
    {
     "data": {
      "image/png": "[encoded data removed]",
      "text/plain": [
       "<matplotlib.figure.Figure at 0x1113f16a0>"
      ]
     },
     "metadata": {},
     "output_type": "display_data"
    }
   ],
   "source": [
    "D_100, likelihood_100, scale_100 = safe_likelihood(test_data_100, 100, -10.5, -9.5, 1000, safety_factor = 1, start_value = 0)\n",
    "print(\"scale_10: %.3e\" %scale_100)\n",
    "plt.plot(D_100, likelihood_100)"
   ]
  },
  {
   "cell_type": "code",
   "execution_count": 23,
   "metadata": {
    "collapsed": false
   },
   "outputs": [
    {
     "name": "stdout",
     "output_type": "stream",
     "text": [
      "Good value of (-i/safety_factor - safety_constant) is between 4.0000 and 5.0000\n",
      "max: 3.202e-247 min: 0.000e+00 total: 2.206e-245\n",
      "Exponent: -4.5000\n",
      "scale_10: -3.500e+00\n"
     ]
    },
    {
     "data": {
      "text/plain": [
       "[<matplotlib.lines.Line2D at 0x11160ca20>]"
      ]
     },
     "execution_count": 23,
     "metadata": {},
     "output_type": "execute_result"
    },
    {
     "data": {
      "image/png": "[encoded data removed]",
      "text/plain": [
       "<matplotlib.figure.Figure at 0x1115194e0>"
      ]
     },
     "metadata": {},
     "output_type": "display_data"
    }
   ],
   "source": [
    "D_500, likelihood_500, scale_500 = safe_likelihood(test_data_500, 100, -10.5, -9.5, 1000, safety_factor = 1, start_value = 0)\n",
    "print(\"scale_10: %.3e\" %scale_500)\n",
    "plt.plot(D_500, likelihood_500)"
   ]
  },
  {
   "cell_type": "markdown",
   "metadata": {},
   "source": [
    "Up to now, there have been relatively few hitches, but once we get up to around 1000 data points, it becomes nearly impossible to find the right scaling factor."
   ]
  },
  {
   "cell_type": "code",
   "execution_count": 24,
   "metadata": {
    "collapsed": false
   },
   "outputs": [
    {
     "name": "stdout",
     "output_type": "stream",
     "text": [
      "max: nan min: nan total: nan\n",
      "max: nan min: nan total: nan\n",
      "max: nan min: nan total: nan\n",
      "max: nan min: nan total: nan\n",
      "max: nan min: nan total: nan\n",
      "max: 0.000e+00 min: 0.000e+00 total: 0.000e+00\n",
      "Increase Safety Factor. Good value of safety_scale/safety_factor is between 4.0000e+00 and 5.0000e+00\n",
      "max_value.\n"
     ]
    },
    {
     "ename": "TypeError",
     "evalue": "'NoneType' object is not iterable",
     "output_type": "error",
     "traceback": [
      "\u001b[0;31m---------------------------------------------------------------------------\u001b[0m",
      "\u001b[0;31mTypeError\u001b[0m                                 Traceback (most recent call last)",
      "\u001b[0;32m<ipython-input-24-62e3f061d676>\u001b[0m in \u001b[0;36m<module>\u001b[0;34m()\u001b[0m\n\u001b[0;32m----> 1\u001b[0;31m \u001b[0mD_1000\u001b[0m\u001b[0;34m,\u001b[0m \u001b[0mlikelihood_1000\u001b[0m\u001b[0;34m,\u001b[0m \u001b[0mscale_1000\u001b[0m \u001b[0;34m=\u001b[0m \u001b[0msafe_likelihood_0\u001b[0m\u001b[0;34m(\u001b[0m\u001b[0mtest_data_500\u001b[0m\u001b[0;34m,\u001b[0m \u001b[0;36m100\u001b[0m\u001b[0;34m,\u001b[0m \u001b[0;34m-\u001b[0m\u001b[0;36m10.5\u001b[0m\u001b[0;34m,\u001b[0m \u001b[0;34m-\u001b[0m\u001b[0;36m9.5\u001b[0m\u001b[0;34m,\u001b[0m \u001b[0;36m100\u001b[0m\u001b[0;34m,\u001b[0m \u001b[0msafety_factor\u001b[0m \u001b[0;34m=\u001b[0m \u001b[0;36m1\u001b[0m\u001b[0;34m,\u001b[0m \u001b[0mstart_value\u001b[0m \u001b[0;34m=\u001b[0m \u001b[0;36m0\u001b[0m\u001b[0;34m)\u001b[0m\u001b[0;34m\u001b[0m\u001b[0m\n\u001b[0m\u001b[1;32m      2\u001b[0m \u001b[0mprint\u001b[0m\u001b[0;34m(\u001b[0m\u001b[0;34m\"scale_10: %.3e\"\u001b[0m \u001b[0;34m%\u001b[0m\u001b[0mscale_1000\u001b[0m\u001b[0;34m)\u001b[0m\u001b[0;34m\u001b[0m\u001b[0m\n\u001b[1;32m      3\u001b[0m \u001b[0mplt\u001b[0m\u001b[0;34m.\u001b[0m\u001b[0mplot\u001b[0m\u001b[0;34m(\u001b[0m\u001b[0mD_1000\u001b[0m\u001b[0;34m,\u001b[0m \u001b[0mlikelihood_1000\u001b[0m\u001b[0;34m)\u001b[0m\u001b[0;34m\u001b[0m\u001b[0m\n",
      "\u001b[0;31mTypeError\u001b[0m: 'NoneType' object is not iterable"
     ]
    }
   ],
   "source": [
    "D_1000, likelihood_1000, scale_1000 = safe_likelihood_0(test_data_500, 100, -10.5, -9.5, 100, safety_factor = 1, start_value = 0)\n",
    "print(\"scale_10: %.3e\" %scale_1000)\n",
    "plt.plot(D_1000, likelihood_1000)"
   ]
  },
  {
   "cell_type": "code",
   "execution_count": null,
   "metadata": {
    "collapsed": true
   },
   "outputs": [],
   "source": []
  }
 ],
 "metadata": {
  "kernelspec": {
   "display_name": "Python 3",
   "language": "python",
   "name": "python3"
  },
  "language_info": {
   "codemirror_mode": {
    "name": "ipython",
    "version": 3
   },
   "file_extension": ".py",
   "mimetype": "text/x-python",
   "name": "python",
   "nbconvert_exporter": "python",
   "pygments_lexer": "ipython3",
   "version": "3.5.1"
  }
 },
 "nbformat": 4,
 "nbformat_minor": 0
}
